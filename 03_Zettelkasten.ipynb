{
 "cells": [
  {
   "cell_type": "markdown",
   "metadata": {},
   "source": [
    "# 3. Zettelkasten"
   ]
  },
  {
   "cell_type": "code",
   "execution_count": null,
   "metadata": {},
   "outputs": [],
   "source": [
    "\"\"\"\n",
    "Kulturobjkte in Datenobjekte übertragen\n",
    "\n",
    "Beispielskript für das Datenlabor der DNB, Workshop vom 16. bis 18. September\n",
    "2019 in der Deutschen Nationalbibliothek Leipzig\n",
    "\n",
    "Autoren: André Wendler und Ramon Voges\n",
    "\n",
    "Lizenz: CC BY\n",
    "\"\"\"\n",
    "\n",
    "zettel1 = \"Guido van Rossum, De Serpenti Libri, 1455\"\n",
    "\n",
    "autor = \"Guido van Rossum\"\n",
    "zahl = 1455\n",
    "titel = \"De Serpenti Libri\"\n",
    "\n",
    "autor = autor.upper()\n",
    "titel = titel.lower()\n",
    "jahr = str(zahl)\n",
    "\n",
    "# Konkatenieren\n",
    "zettel2 = autor + \", \" + jahr + \", \" + titel\n",
    "# Interpolieren\n",
    "zettel3 = \"{}, {}, {}\".format(autor, jahr, titel)\n",
    "\n",
    "kasten = [zettel1, zettel2]\n",
    "\n",
    "kasten.append(zettel3)\n",
    "\n",
    "print(kasten)\n",
    "for zettel in kasten:\n",
    "    print(zettel)\n",
    "\n",
    "counted = len(kasten)\n",
    "print(counted)\n",
    "\n",
    "zettelkasten = []\n",
    "\n",
    "zettel = {\"author\": autor, \"title\": titel, \"year\": zahl}\n",
    "zettelkasten.append(zettel)\n",
    "zettelkasten.append(zettel)\n",
    "zettelkasten.append(zettel)\n"
   ]
  }
 ],
 "metadata": {
  "kernelspec": {
   "display_name": "Python 3",
   "language": "python",
   "name": "python3"
  },
  "language_info": {
   "codemirror_mode": {
    "name": "ipython",
    "version": 3
   },
   "file_extension": ".py",
   "mimetype": "text/x-python",
   "name": "python",
   "nbconvert_exporter": "python",
   "pygments_lexer": "ipython3",
   "version": "3.7.3"
  }
 },
 "nbformat": 4,
 "nbformat_minor": 4
}
