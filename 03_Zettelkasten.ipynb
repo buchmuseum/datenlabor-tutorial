{
 "cells": [
  {
   "cell_type": "markdown",
   "metadata": {},
   "source": [
    "# 3. Zettelkasten"
   ]
  },
  {
   "cell_type": "markdown",
   "metadata": {},
   "source": [
    "Nachdem wir entweder Python lokal auf einem Rechner installiert haben oder eine Version nutzen, die online zur Verfügung gestellt wird, geht es uns im Folgenden darum, wie wir mit Python einen Zettelkatalog nachbilden können, der noch vor zu Beginn des 21. Jahrhunderts in Bibliotheken Verwendung fand.\n",
    "\n",
    "Zu allererst legen wir einen Zettel mit einem ausgedachten Titel einer spätmittelalterlichen [Inkunabel](https://de.wikipedia.org/wiki/Inkunabel) an. In Python könnte das so aussehen:"
   ]
  },
  {
   "cell_type": "code",
   "execution_count": 1,
   "metadata": {},
   "outputs": [],
   "source": [
    "zettel1 = \"Guido van Rossum, De Serpenti Libri, 1455\""
   ]
  },
  {
   "cell_type": "markdown",
   "metadata": {},
   "source": [
    "Wir vergeben zunächst einen Namen, unter dem wir die Daten im Arbeitsspeicher des Rechners ablegen wollen. Wir erschaffen damit eine *Variable*. In unserem Fall ist das `zettel1`. Das Gleichheitszeichen gibt an, das anschließend der eigentliche Inhalt dieser Variable folgt. Das Zuordnen von Variablennamen und in ihrem Inhalt erfolgt immer nach dem Muster `variablenname = inhalt`.\n",
    "\n",
    "Variablennammen werden in Python in der Regel kleingeschrieben. Sie können aus Kombinationen von Zeichen und Zahlen bestehen, wobei Zeichen am Anfang stehen müssen. Auch können sie Unterstriche '_' enthalten (*snake case*), aber keine Bindestriche '-'. Je nach Geschmack können sie auch die Form `dasIstEineVariable` (*camel case*) annehmen. Hauptsache ist, die Namen sind sprechend und die Form einheitlich. Ausgeschlossen sind lediglich eine Handvoll Funktionsnamen, Schlüsselbegriffe oder Operatoren wie `and`, `or`, `file`, `is` u.ä.\n",
    "\n",
    "Zurück zu unserem Zettel: Wir erstellen also eine Variable mit dem Namen `zettel1`, deren Inhalt aus den Zeichen `Guido van Rossum, De Serpenti Libri, 1455` besteht.\n",
    "\n",
    "Der Inhalt unserer Variablen beginnt und endet mit einem Anführungszeichen. Für Python bedeutet das, dass der Inhalt der Variable eine Zeichenkette, ein sogenannter *string* ist. Innerhalb der Anführungszeichen kann nahezu jedes beliebige Zeichen stehen.\n",
    "\n",
    "Aufpassen allerdings muss man, wenn man innerhalb eines *strings* ein Anführungszeichen nutzt möchte, denn dieser würde ja eigentlich den *string* beenden. Abhilfe schafft hier die Unterscheidung in einfache und doppelte Anführungszeichen:"
   ]
  },
  {
   "cell_type": "code",
   "execution_count": 2,
   "metadata": {},
   "outputs": [],
   "source": [
    "variable1 = \"Das ist bekannt.\"\n",
    "variable2 = \"Ich sagte: 'Hier haben wie zwei unterschiedliche Anführungszeichen'.\"\n",
    "variable3 = 'Sie antwortete: \"Und auch das geht.\"'\n",
    "variable4 = \"\"\"Mehrzeilige Zeichenketten schließt man am besten\n",
    "in drei Anführungszeichen ein. Dann weiß Python, \n",
    "dass sich die Zeichenkette über mehrere Zeilen erstreckt.\"\"\""
   ]
  },
  {
   "cell_type": "markdown",
   "metadata": {},
   "source": [
    "Im Alltag begegnet man vor allem den einfachen und den doppelten Anführungszeichen. Für welche man sich entscheidet, ist Geschmackssache. Wichtig ist nur, dass immer das zweite Anführungszeichen eines Paares die Zeichenkette wieder schließt.\n",
    "\n",
    "Eine Sonderform stellen Zeichenketten dar, die mit *drei* doppelten Anführungszeichen eingeleitet werden. Damit schließt man *strings* ein, in denen ein Zeilenumbruch vorkommt."
   ]
  },
  {
   "cell_type": "markdown",
   "metadata": {},
   "source": [
    "## Konkatenieren\n",
    "\n",
    "Zurück zu unserem ersten Zettel mit dem namen `zettel1`."
   ]
  },
  {
   "cell_type": "code",
   "execution_count": 3,
   "metadata": {},
   "outputs": [
    {
     "data": {
      "text/plain": [
       "'Guido van Rossum, De Serpenti Libri, 1455'"
      ]
     },
     "execution_count": 3,
     "metadata": {},
     "output_type": "execute_result"
    }
   ],
   "source": [
    "zettel1"
   ]
  },
  {
   "cell_type": "markdown",
   "metadata": {},
   "source": [
    "(Indem wir in einem *Jupyter Notebook* nur den Variablennamen in eine Code-Zelle einfügen, und diese Zeile dann druch das Drücken der Tasten `Shift + Enter` oder von `Strg + Enter` ausführen, können wir uns den Inhalt der Variable ansehen.)\n",
    "\n",
    "In ihm haben wir zwar drei bibliographischen Angaben eines Buches hinterlegt. Auf diese Weise fällt es uns aber schwer, auf die einzelnen semantischen Einheiten unseres Zettels wie Autor, Titel oder Jahreszahl zuzugreifen. Wir trennen deshalb zunächst die bibliographischen Angaben voneinander und setzen sie anschließend für unseren Zettel wieder zusammen."
   ]
  },
  {
   "cell_type": "code",
   "execution_count": 4,
   "metadata": {},
   "outputs": [],
   "source": [
    "autor = \"Guido van Rossum\"\n",
    "titel = \"De Serpenti Libri\"\n",
    "jahreszahl = 1455"
   ]
  },
  {
   "cell_type": "markdown",
   "metadata": {},
   "source": [
    "In einem ersten Schritt erstellen wir drei Variablen, eine für den Autor, eine für das Jahr der Veröffentlichung und eine für den Titel. In einem zweiten Schritt erstellen wir einen Zettel, der aus diesen Angaben besteht. Damit wir zwischen den einzelnen Angaben Kommata und Leerzeichen erhalten, müssen wir sie explizit mit einbauen. Dieses Verfahren, bei dem wir eine längere Zeichenkette aus einzelnen Abschnitten zusammensetzen, nennt sich *konkatenieren*."
   ]
  },
  {
   "cell_type": "code",
   "execution_count": 5,
   "metadata": {},
   "outputs": [
    {
     "ename": "TypeError",
     "evalue": "can only concatenate str (not \"int\") to str",
     "output_type": "error",
     "traceback": [
      "\u001b[0;31m---------------------------------------------------------------------------\u001b[0m",
      "\u001b[0;31mTypeError\u001b[0m                                 Traceback (most recent call last)",
      "\u001b[0;32m<ipython-input-5-9b167da2202d>\u001b[0m in \u001b[0;36m<module>\u001b[0;34m\u001b[0m\n\u001b[0;32m----> 1\u001b[0;31m \u001b[0mzettel2\u001b[0m \u001b[0;34m=\u001b[0m \u001b[0mautor\u001b[0m \u001b[0;34m+\u001b[0m \u001b[0;34m\", \"\u001b[0m \u001b[0;34m+\u001b[0m \u001b[0mtitel\u001b[0m \u001b[0;34m+\u001b[0m \u001b[0;34m\", \"\u001b[0m \u001b[0;34m+\u001b[0m \u001b[0mjahreszahl\u001b[0m\u001b[0;34m\u001b[0m\u001b[0;34m\u001b[0m\u001b[0m\n\u001b[0m",
      "\u001b[0;31mTypeError\u001b[0m: can only concatenate str (not \"int\") to str"
     ]
    }
   ],
   "source": [
    "zettel2 = autor + \", \" + titel + \", \" + jahreszahl"
   ]
  },
  {
   "cell_type": "markdown",
   "metadata": {},
   "source": [
    "Allerdings erhalten wir hierbei noch einen sogenannten *TypeError*: Zwei unterschiedliche Datentypen sollen miteiander konkateniert werden. Das kann Python aber nicht. Am Ende der Fehlermeldung erhalten wir den Hinweis, dass nur *strings* miteinander konkateniert werden können. Bei unserer Jahreszahl handelt es sich aber noch um eine *Zahl*, einen *integer*. Diese müssen wir noch in einen *strin* verwandeln, um sie mit anderen *strings* zusammensetzen zu können. Wir nutzen dafür die Funktion `str()`, die uns Python standardmäßig zur Verfügung stellt:"
   ]
  },
  {
   "cell_type": "code",
   "execution_count": 6,
   "metadata": {},
   "outputs": [],
   "source": [
    "jahr = str(jahreszahl)"
   ]
  },
  {
   "cell_type": "markdown",
   "metadata": {},
   "source": [
    "Nun tauschen wir in unserer Definition von `zettel2` die Variable `jahreszahl` mit `jahr` aus und können auf diese Weise die Angaben konkatenieren: "
   ]
  },
  {
   "cell_type": "code",
   "execution_count": 7,
   "metadata": {},
   "outputs": [],
   "source": [
    "zettel2 = autor + \", \" + titel + \", \" + jahr"
   ]
  },
  {
   "cell_type": "markdown",
   "metadata": {},
   "source": [
    "Keine Fehlermeldung! Und wenn wir uns den Inhalt der Variable anschauen, stellen wir fest, dass er identisch mit dem Inhalt von unserem ersten Zettel ist."
   ]
  },
  {
   "cell_type": "code",
   "execution_count": 8,
   "metadata": {},
   "outputs": [
    {
     "data": {
      "text/plain": [
       "'Guido van Rossum, De Serpenti Libri, 1455'"
      ]
     },
     "execution_count": 8,
     "metadata": {},
     "output_type": "execute_result"
    }
   ],
   "source": [
    "zettel2"
   ]
  },
  {
   "cell_type": "markdown",
   "metadata": {},
   "source": [
    "Das können wir überprüfen, indem wir den `==`-Operator verwenden. Mit ihm setzt man nicht gleich wie bei `=`, sondern man prüft, ob die beiden Werte links und rechts neben dem doppelten Gleichheitszeichen identisch sind. Als Rückgabewert erhalten wir `True`, das heißt `zettel1` entspricht `zettel2`."
   ]
  },
  {
   "cell_type": "code",
   "execution_count": 9,
   "metadata": {},
   "outputs": [
    {
     "data": {
      "text/plain": [
       "True"
      ]
     },
     "execution_count": 9,
     "metadata": {},
     "output_type": "execute_result"
    }
   ],
   "source": [
    "zettel1 == zettel2"
   ]
  },
  {
   "cell_type": "markdown",
   "metadata": {},
   "source": [
    "Das Praktische daran, die bibliographischen Daten voneinander zu trennen, ist, dass wir sie einzeln bearbeiten können. Falls wir beispielsweise die Angabe des Autors auf unserem Zettel großgeschrieben haben wollen, lässt sich das schnell erreichen. Dafür überschreiben wir unsere Variable `zettel2` und ändern das Erscheinungsbild der Variable `autor`, indem wir mit der Methode `upper.()` den Inhalt von `autor` in Großbuchstaben ausgeben:"
   ]
  },
  {
   "cell_type": "code",
   "execution_count": 10,
   "metadata": {},
   "outputs": [
    {
     "data": {
      "text/plain": [
       "'GUIDO VAN ROSSUM, De Serpenti Libri, 1455'"
      ]
     },
     "execution_count": 10,
     "metadata": {},
     "output_type": "execute_result"
    }
   ],
   "source": [
    "zettel2 = autor.upper() + \", \" + titel + \", \" + jahr\n",
    "zettel2"
   ]
  },
  {
   "cell_type": "markdown",
   "metadata": {},
   "source": [
    "Wenn wir uns jetzt den Inhalt von `autor` ausgeben lassen, stellen wir fest, dass er unverändert geblieben ist. Wir haben lediglich die Ausgabe des Inhalts verändert, als wir ihn auf unseren `zettel2` geschrieben haben."
   ]
  },
  {
   "cell_type": "code",
   "execution_count": 11,
   "metadata": {},
   "outputs": [
    {
     "data": {
      "text/plain": [
       "'Guido van Rossum'"
      ]
     },
     "execution_count": 11,
     "metadata": {},
     "output_type": "execute_result"
    }
   ],
   "source": [
    "autor"
   ]
  },
  {
   "cell_type": "markdown",
   "metadata": {},
   "source": [
    "Auf den Unterschied von Funktionen und Methoden gehen wir später noch ausführlicher ein. An dieser Stelle genügen: Funktionen können Objekte verändern. Methoden sind Fähigkeiten, die Objekte von sich aus mitbringen. Mit der Funktion `str()` verwandeln wir bspw. eine Zahl in einen *string*. *Strings* wiederum bringen die Fähigkeit `upper()` mit, durch die wir deren Inhalt großschreiben können."
   ]
  },
  {
   "cell_type": "markdown",
   "metadata": {},
   "source": [
    "## Interpolieren\n",
    "\n",
    "Es gibt eine zweite, häufig verwendete Möglichkeit, aus einzelnen Daten eine Zeichenkette zusammenzusetzen: das Interpolieren. Dafür nutzen wir sogenannte *formatierte Zeichenketten*. Zwei Wege führen zum Ziel. Variante 1:"
   ]
  },
  {
   "cell_type": "code",
   "execution_count": 12,
   "metadata": {},
   "outputs": [
    {
     "data": {
      "text/plain": [
       "'Guido van Rossum, De Serpenti Libri, 1455'"
      ]
     },
     "execution_count": 12,
     "metadata": {},
     "output_type": "execute_result"
    }
   ],
   "source": [
    "zettel3 = \"{}, {}, {}\".format(autor, titel, jahr)\n",
    "zettel3"
   ]
  },
  {
   "cell_type": "code",
   "execution_count": 13,
   "metadata": {},
   "outputs": [
    {
     "data": {
      "text/plain": [
       "True"
      ]
     },
     "execution_count": 13,
     "metadata": {},
     "output_type": "execute_result"
    }
   ],
   "source": [
    "zettel1 == zettel3"
   ]
  },
  {
   "cell_type": "markdown",
   "metadata": {},
   "source": [
    "Wir vergeben wieder einen Variablennamen, diesmal `zettel3` und setzen als Inhalt einen leeren *string* ein. Die geschweiften Klammern markieren dabei Leerstellen, die wir mit einem Inhalt füllen wollen. Dafür greifen wir auf die Methode `format()` von *strings* zurück und übergeben in den runden Klammern die Inhalte, die an die Stelle der geschweiften Klammern geschrieben werden sollen.\n",
    "\n",
    "Auch hier können wir den Inhalt der Variablen anders ausgeben, z.B. kleingeschrieben:"
   ]
  },
  {
   "cell_type": "code",
   "execution_count": 14,
   "metadata": {},
   "outputs": [
    {
     "data": {
      "text/plain": [
       "'Guido van Rossum, de serpenti libri, 1455'"
      ]
     },
     "execution_count": 14,
     "metadata": {},
     "output_type": "execute_result"
    }
   ],
   "source": [
    "zettel3 = \"{}, {}, {}\".format(autor, titel.lower(), jahr)\n",
    "zettel3"
   ]
  },
  {
   "cell_type": "code",
   "execution_count": 15,
   "metadata": {},
   "outputs": [
    {
     "data": {
      "text/plain": [
       "False"
      ]
     },
     "execution_count": 15,
     "metadata": {},
     "output_type": "execute_result"
    }
   ],
   "source": [
    "zettel1 == zettel3"
   ]
  },
  {
   "cell_type": "markdown",
   "metadata": {},
   "source": [
    "Weil wir hier den Titel kleingeschrieben auf unseren Zettel eintragen, entspricht der Inhalt von `zettel1` nicht dem von `zettel3`.\n",
    "\n",
    "Variante 2: Einfacher, weil übersichtlicher erreichen wir das gleiche Ziel, wenn wir nicht die `format()`-Methode anwenden, sondern die Variablennamen gleich in den geschweiften Klammern schreiben. Damit das möglich ist, müssen wir Python allerdings zu verstehen geben, dass wir den *string* formatieren wollen. Dafür stellen wir ein 'f' den ersten Anführungszeichen voran:"
   ]
  },
  {
   "cell_type": "code",
   "execution_count": 16,
   "metadata": {},
   "outputs": [
    {
     "data": {
      "text/plain": [
       "'GUIDO VAN ROSSUM, De Serpenti Libri, 1455'"
      ]
     },
     "execution_count": 16,
     "metadata": {},
     "output_type": "execute_result"
    }
   ],
   "source": [
    "zettel4 = f\"{autor.upper()}, {titel}, {jahr}\"\n",
    "zettel4"
   ]
  },
  {
   "cell_type": "code",
   "execution_count": 17,
   "metadata": {},
   "outputs": [
    {
     "data": {
      "text/plain": [
       "True"
      ]
     },
     "execution_count": 17,
     "metadata": {},
     "output_type": "execute_result"
    }
   ],
   "source": [
    "zettel2 == zettel4"
   ]
  },
  {
   "cell_type": "markdown",
   "metadata": {},
   "source": [
    "## Listen: Vom Zettel zum Zettelkatalog\n",
    "\n",
    "Inzwischen haben wir vier Zettel zusammen, die sich teilweise doppeln und teilweise in der Groß- und Kleinschreibung unterscheiden. Packen wir sie trotzdem in einen Zettelkasten!"
   ]
  },
  {
   "cell_type": "code",
   "execution_count": 18,
   "metadata": {},
   "outputs": [
    {
     "data": {
      "text/plain": [
       "['Guido van Rossum, De Serpenti Libri, 1455',\n",
       " 'GUIDO VAN ROSSUM, De Serpenti Libri, 1455',\n",
       " 'Guido van Rossum, de serpenti libri, 1455',\n",
       " 'GUIDO VAN ROSSUM, De Serpenti Libri, 1455']"
      ]
     },
     "execution_count": 18,
     "metadata": {},
     "output_type": "execute_result"
    }
   ],
   "source": [
    "kasten = [zettel1, zettel2, zettel3, zettel4]\n",
    "kasten"
   ]
  },
  {
   "cell_type": "markdown",
   "metadata": {},
   "source": [
    "Wir erstellen dafür eine Liste mit dem Namen `kasten`. Listen erkennt man in Python an den eckigen Klammern '[]', mit denen sie geöffnet und geschlossen werden. Die einzelnen Elemente einer Liste werden mit Kommata getrennt. Besonders praktisch sind Listen, weil ihre Elemente aus unterschiedlichen Datentypen bestehen können.\n",
    "\n",
    "Um Listen zu ergänzen, kann man mit der Methode `append()` einzelne Elemente an sie anhängen."
   ]
  },
  {
   "cell_type": "code",
   "execution_count": 19,
   "metadata": {},
   "outputs": [
    {
     "data": {
      "text/plain": [
       "['Guido van Rossum, De Serpenti Libri, 1455',\n",
       " 'GUIDO VAN ROSSUM, De Serpenti Libri, 1455',\n",
       " 'Guido van Rossum, de serpenti libri, 1455',\n",
       " 'GUIDO VAN ROSSUM, De Serpenti Libri, 1455',\n",
       " 'Hab etwas vergessen']"
      ]
     },
     "execution_count": 19,
     "metadata": {},
     "output_type": "execute_result"
    }
   ],
   "source": [
    "kasten.append('Hab etwas vergessen')\n",
    "kasten"
   ]
  },
  {
   "cell_type": "markdown",
   "metadata": {},
   "source": [
    "Mithilfe ihrer Methode `pop()` entfernt man das letzte Elemente."
   ]
  },
  {
   "cell_type": "code",
   "execution_count": 20,
   "metadata": {},
   "outputs": [
    {
     "data": {
      "text/plain": [
       "['Guido van Rossum, De Serpenti Libri, 1455',\n",
       " 'GUIDO VAN ROSSUM, De Serpenti Libri, 1455',\n",
       " 'Guido van Rossum, de serpenti libri, 1455',\n",
       " 'GUIDO VAN ROSSUM, De Serpenti Libri, 1455']"
      ]
     },
     "execution_count": 20,
     "metadata": {},
     "output_type": "execute_result"
    }
   ],
   "source": [
    "kasten.pop()\n",
    "kasten"
   ]
  },
  {
   "cell_type": "markdown",
   "metadata": {},
   "source": [
    "Auf einzelnen Listenelemente lässt sich mithilfe ihres sogenannten Index zugreifen. Die Indexzahl des gesuchten Elementes schreibt man dafür in eckige Klammern direkt hinter den Listennamen. Besonders verwirrend ist am Anfang, dass das erste Element einer Liste stets die Indexzahl 0 hat:"
   ]
  },
  {
   "cell_type": "code",
   "execution_count": 21,
   "metadata": {},
   "outputs": [
    {
     "data": {
      "text/plain": [
       "'Guido van Rossum, De Serpenti Libri, 1455'"
      ]
     },
     "execution_count": 21,
     "metadata": {},
     "output_type": "execute_result"
    }
   ],
   "source": [
    "# Wählt das erste Element aus.\n",
    "kasten[0]"
   ]
  },
  {
   "cell_type": "code",
   "execution_count": 22,
   "metadata": {},
   "outputs": [
    {
     "data": {
      "text/plain": [
       "'Guido van Rossum, de serpenti libri, 1455'"
      ]
     },
     "execution_count": 22,
     "metadata": {},
     "output_type": "execute_result"
    }
   ],
   "source": [
    "# Wählt das Element an dritter Stelle aus (beginnend bei 0).\n",
    "kasten[2]"
   ]
  },
  {
   "cell_type": "code",
   "execution_count": 23,
   "metadata": {},
   "outputs": [
    {
     "data": {
      "text/plain": [
       "'GUIDO VAN ROSSUM, De Serpenti Libri, 1455'"
      ]
     },
     "execution_count": 23,
     "metadata": {},
     "output_type": "execute_result"
    }
   ],
   "source": [
    "# Wählt das letzte Element aus.\n",
    "kasten[-1]"
   ]
  },
  {
   "cell_type": "markdown",
   "metadata": {},
   "source": [
    "Auf diese Weise können auch einzelne Elemente überschrieben werden:"
   ]
  },
  {
   "cell_type": "code",
   "execution_count": 24,
   "metadata": {},
   "outputs": [
    {
     "data": {
      "text/plain": [
       "['Guido van Rossum, De Serpenti Libri, 1455',\n",
       " 'Monty Python, Flying Circus, 1969',\n",
       " 'Umberto Eco, Il nome della rosa, 1982',\n",
       " 'Goethe, Wahlverwandschaften, 1809']"
      ]
     },
     "execution_count": 24,
     "metadata": {},
     "output_type": "execute_result"
    }
   ],
   "source": [
    "kasten[1] = \"Monty Python, Flying Circus, 1969\"\n",
    "kasten[2] = \"Umberto Eco, Il nome della rosa, 1982\"\n",
    "kasten[3] = \"Goethe, Wahlverwandschaften, 1809\"\n",
    "kasten"
   ]
  },
  {
   "cell_type": "markdown",
   "metadata": {},
   "source": [
    "Mithilfe des sogenannten *slicing* können auch mehrere Elemente ausgewählt werden. Das *slicing* folgt dabei dem Muster `liste[start:stopp:schritt]`. Mit `start` gibt man die Indexzahl an, mit der die Auswahl begonnen werden soll. Die Auswahl endet allerdings nicht *nach*, sondern *vor* `stopp`. Der Startwert ist also in der Auswahl eingeschlossen, der Endwert nicht mehr. Mit `schritt` wird angegeben, das wievielte Elemente ausgewählt werden soll. Der Standardwert ist `1`. Deshalb kann diese Angabe für gewöhnlich entfallen."
   ]
  },
  {
   "cell_type": "code",
   "execution_count": 25,
   "metadata": {},
   "outputs": [
    {
     "data": {
      "text/plain": [
       "['Guido van Rossum, De Serpenti Libri, 1455',\n",
       " 'Monty Python, Flying Circus, 1969']"
      ]
     },
     "execution_count": 25,
     "metadata": {},
     "output_type": "execute_result"
    }
   ],
   "source": [
    "# Position 0 bis einschließlich Position 1\n",
    "kasten[0:2]"
   ]
  },
  {
   "cell_type": "code",
   "execution_count": 26,
   "metadata": {},
   "outputs": [
    {
     "data": {
      "text/plain": [
       "['Guido van Rossum, De Serpenti Libri, 1455',\n",
       " 'Monty Python, Flying Circus, 1969']"
      ]
     },
     "execution_count": 26,
     "metadata": {},
     "output_type": "execute_result"
    }
   ],
   "source": [
    "# Kurzschreibweise für Position 0 bis einschließlich Position 1\n",
    "kasten[:2]"
   ]
  },
  {
   "cell_type": "code",
   "execution_count": 27,
   "metadata": {},
   "outputs": [
    {
     "data": {
      "text/plain": [
       "['Monty Python, Flying Circus, 1969',\n",
       " 'Umberto Eco, Il nome della rosa, 1982',\n",
       " 'Goethe, Wahlverwandschaften, 1809']"
      ]
     },
     "execution_count": 27,
     "metadata": {},
     "output_type": "execute_result"
    }
   ],
   "source": [
    "# Position 1 bis einschließlich 3\n",
    "kasten[1:4]"
   ]
  },
  {
   "cell_type": "code",
   "execution_count": 28,
   "metadata": {},
   "outputs": [
    {
     "data": {
      "text/plain": [
       "['Umberto Eco, Il nome della rosa, 1982', 'Goethe, Wahlverwandschaften, 1809']"
      ]
     },
     "execution_count": 28,
     "metadata": {},
     "output_type": "execute_result"
    }
   ],
   "source": [
    "# Alles ab Position 2\n",
    "kasten[2:]"
   ]
  },
  {
   "cell_type": "code",
   "execution_count": 29,
   "metadata": {},
   "outputs": [
    {
     "data": {
      "text/plain": [
       "['Guido van Rossum, De Serpenti Libri, 1455',\n",
       " 'Umberto Eco, Il nome della rosa, 1982']"
      ]
     },
     "execution_count": 29,
     "metadata": {},
     "output_type": "execute_result"
    }
   ],
   "source": [
    "# Jedes zweite Element\n",
    "kasten[::2]"
   ]
  },
  {
   "cell_type": "markdown",
   "metadata": {},
   "source": [
    "Damit ist es möglich ziemlich präzise die einzelnen Zettel in unserem Zettelkasten anzusteuern. Die bibliographischen Angaben allerdings liegen nun wieder als *strings* vor. Dieses Problem gehen wir zum Schluss an!"
   ]
  },
  {
   "cell_type": "markdown",
   "metadata": {},
   "source": [
    "## Dictionaries\n",
    "\n",
    "*Dictionaries* bestehen aus Schlüssel-Wert-Paaren. Ein beliebiger Inhalt - *strings*, Zahlen, Listen, andere *dictionaries* - kann einem Schlüssel zugeschrieben werden, so dass man über den Schlüssel an den Inhalt herankommt.\n",
    "\n",
    "In Python leitet man *dictionaries* mit einer geschweiften Klammer ein, die einzelnen Elemente trennt man wieder mit Komma und schließt sie erneut mit einer geschweiften Klammer. Schlüssel und Wert trennt man mit einem Doppelpunkt."
   ]
  },
  {
   "cell_type": "code",
   "execution_count": 30,
   "metadata": {},
   "outputs": [
    {
     "data": {
      "text/plain": [
       "{'autor': 'Guido van Rossum', 'titel': 'De Serpenti Libri', 'jahr': 1455}"
      ]
     },
     "execution_count": 30,
     "metadata": {},
     "output_type": "execute_result"
    }
   ],
   "source": [
    "zettel1 = {\"autor\": \"Guido van Rossum\", \"titel\": \"De Serpenti Libri\", \"jahr\": 1455}\n",
    "zettel1"
   ]
  },
  {
   "cell_type": "markdown",
   "metadata": {},
   "source": [
    "Wir überschreiben unsere alte Variable `zettel1` mit einem *dictionary*, in dem wir nun semantsich voneinander getrennt die bibliographischen Angaben ablegen. Als Schlüssel nehmen wir die Feldnamen wie Autor etc., aber wir nutzen sie als *strings* (`\"autor\"`), weil wir sonst mit `autor` die Variable dieses Namens wählen würden. Als Jahreszahl können wir nun auch einen *integer* eintragen und brauchen diese nicht mehr in einen *string* zu verwandeln.\n",
    "\n",
    "Über den Schlüssel erreichen wir den jeweiligen Wert:"
   ]
  },
  {
   "cell_type": "code",
   "execution_count": 31,
   "metadata": {},
   "outputs": [
    {
     "data": {
      "text/plain": [
       "'Guido van Rossum'"
      ]
     },
     "execution_count": 31,
     "metadata": {},
     "output_type": "execute_result"
    }
   ],
   "source": [
    "# Gibt den Autor aus\n",
    "zettel1['autor']"
   ]
  },
  {
   "cell_type": "markdown",
   "metadata": {},
   "source": [
    "Auch hier müssen wir auf die Anführungszeichen achten, weil unser Schlüssel keine Variable, sondern ein *string* ist."
   ]
  },
  {
   "cell_type": "code",
   "execution_count": 32,
   "metadata": {},
   "outputs": [
    {
     "data": {
      "text/plain": [
       "1455"
      ]
     },
     "execution_count": 32,
     "metadata": {},
     "output_type": "execute_result"
    }
   ],
   "source": [
    "zettel1[\"jahr\"]"
   ]
  },
  {
   "cell_type": "markdown",
   "metadata": {},
   "source": [
    "Über die Methode `keys()` können wir uns anschauen, über welche Schlüssel ein *dictionary* verfügt. Als Rückgabe erhalten wir, erkennbar an den eckigen Klammern, eine Liste mit den einzelnen Schlüsseln."
   ]
  },
  {
   "cell_type": "code",
   "execution_count": 33,
   "metadata": {},
   "outputs": [
    {
     "data": {
      "text/plain": [
       "dict_keys(['autor', 'titel', 'jahr'])"
      ]
     },
     "execution_count": 33,
     "metadata": {},
     "output_type": "execute_result"
    }
   ],
   "source": [
    "zettel1.keys()"
   ]
  },
  {
   "cell_type": "markdown",
   "metadata": {},
   "source": [
    "Mithilfe der Methode `values()` erhalten wir als Rückgabe eine Liste mit den jeweiligen Inhalten."
   ]
  },
  {
   "cell_type": "code",
   "execution_count": 34,
   "metadata": {},
   "outputs": [
    {
     "data": {
      "text/plain": [
       "dict_values(['Guido van Rossum', 'De Serpenti Libri', 1455])"
      ]
     },
     "execution_count": 34,
     "metadata": {},
     "output_type": "execute_result"
    }
   ],
   "source": [
    "zettel1.values()"
   ]
  },
  {
   "cell_type": "markdown",
   "metadata": {},
   "source": [
    "Die Methode `items()` gibt eine Liste aus den Schlüssel-Wert-Paaren zurück. Das wird im nächsten Abschnitt besonders wichtig werden."
   ]
  },
  {
   "cell_type": "code",
   "execution_count": 35,
   "metadata": {},
   "outputs": [
    {
     "data": {
      "text/plain": [
       "dict_items([('autor', 'Guido van Rossum'), ('titel', 'De Serpenti Libri'), ('jahr', 1455)])"
      ]
     },
     "execution_count": 35,
     "metadata": {},
     "output_type": "execute_result"
    }
   ],
   "source": [
    "zettel1.items()"
   ]
  },
  {
   "cell_type": "markdown",
   "metadata": {},
   "source": [
    "Mit diesem Wissen augestattet, ist es uns nun möglich einen semantisch ausgezeichneten Zettelkasten mit unseren vier Beispieltiteln zu erstellen:"
   ]
  },
  {
   "cell_type": "code",
   "execution_count": 36,
   "metadata": {},
   "outputs": [
    {
     "data": {
      "text/plain": [
       "[{'autor': 'Guido van Rossum', 'titel': 'De Serpenti Libri', 'jahr': 1455},\n",
       " {'autor': 'Monty Python', 'titel': 'Flying Circus', 'jahr': 1969},\n",
       " {'autor': 'Umberto Eco', 'titel': 'Il nome della rosa', 'jahr': 1982},\n",
       " {'autor': 'Goethe', 'titel': 'Wahlverwandtschaften', 'jahr': 1809}]"
      ]
     },
     "execution_count": 36,
     "metadata": {},
     "output_type": "execute_result"
    }
   ],
   "source": [
    "zettel2 = {\"autor\": \"Monty Python\", \"titel\": \"Flying Circus\", \"jahr\": 1969}\n",
    "zettel3 = {\"autor\": \"Umberto Eco\", \"titel\": \"Il nome della rosa\", \"jahr\": 1982}\n",
    "zettel4 = {\"autor\": \"Goethe\", \"titel\": \"Wahlverwandtschaften\", \"jahr\": 1809}\n",
    "           \n",
    "kasten = [zettel1, zettel2, zettel3, zettel4]\n",
    "kasten"
   ]
  },
  {
   "cell_type": "markdown",
   "metadata": {},
   "source": [
    "Wir erhalten auf diese Weise eine Liste, in sich der für jeden Zettel ein *dictionary* mit den einzelnen bibliographischen Angaben befindet.\n",
    "\n",
    "Um an eine einzelne Angaben eines Zettels in unserem neuen Zettelkasten heranzukommen, können wir *slicing* und Schlüssel miteinander kombinieren:"
   ]
  },
  {
   "cell_type": "code",
   "execution_count": 37,
   "metadata": {},
   "outputs": [
    {
     "data": {
      "text/plain": [
       "'Umberto Eco'"
      ]
     },
     "execution_count": 37,
     "metadata": {},
     "output_type": "execute_result"
    }
   ],
   "source": [
    "# Gibt vom dritten Zettel (!) den Autor zurück\n",
    "kasten[2]['autor']"
   ]
  },
  {
   "cell_type": "markdown",
   "metadata": {},
   "source": [
    "Auf mehrere Zettel können wir allerdings nicht gleichzeitig zurückgreifen. Wie man diese Problem löst, schauen wir uns im [Notebook 4](04_Schleifen_und_Verzweigungen.ipynb) an!"
   ]
  }
 ],
 "metadata": {
  "kernelspec": {
   "display_name": "Python 3",
   "language": "python",
   "name": "python3"
  },
  "language_info": {
   "codemirror_mode": {
    "name": "ipython",
    "version": 3
   },
   "file_extension": ".py",
   "mimetype": "text/x-python",
   "name": "python",
   "nbconvert_exporter": "python",
   "pygments_lexer": "ipython3",
   "version": "3.8.5"
  }
 },
 "nbformat": 4,
 "nbformat_minor": 4
}
