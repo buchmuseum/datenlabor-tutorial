{
 "cells": [
  {
   "cell_type": "markdown",
   "metadata": {},
   "source": [
    "# 3. Zettelkasten"
   ]
  },
  {
   "cell_type": "markdown",
   "metadata": {},
   "source": [
    "Nachdem wir entweder Python lokal auf einem Rechner installiert haben oder eine Version nutzen, die online zur Verfügung gestellt wird, geht es uns im Folgenden darum, wie wir mit Python einen Zettelkatalog nachbilden können, der noch vor zu Beginn des 21. Jahrhunderts in Bibliotheken Verwendung fand.\n",
    "\n",
    "Zu allererst legen wir einen Zettel mit einem ausgedachten Titel einer spätmittelalterlichen [Inkunabel](https://de.wikipedia.org/wiki/Inkunabel) an. In Python könnte das so aussehen:"
   ]
  },
  {
   "cell_type": "code",
   "execution_count": 6,
   "metadata": {},
   "outputs": [],
   "source": [
    "zettel1 = \"Guido van Rossum, De Serpenti Libri, 1455\""
   ]
  },
  {
   "cell_type": "markdown",
   "metadata": {},
   "source": [
    "Wir vergeben zunächst einen Namen, unter dem wir die Daten im Arbeitsspeicher des Rechners ablegen wollen. Wir erschaffen damit eine *Variable*. In unserem Fall ist das `zettel1`. Das Gleichheitszeichen gibt an, das anschließend der eigentliche Inhalt dieser Variable folgt. Das Zuordnen von Variablennamen und in ihrem Inhalt erfolgt immer nach dem Muster `variablenname = inhalt`.\n",
    "\n",
    "Das heißt: Wir erstellen also eine Variable mit dem Namen `zettel1`, deren Inhalt aus den Zeichen `Guido van Rossum, De Serpenti Libri, 1455` besteht.\n",
    "\n",
    "Der Inhalt unserer Variablen beginnt und endet mit einem Anführungszeichen. Für Python bedeutet das, dass der Inhalt der Variable eine Zeichenkette, ein sogenannter *string* ist. Innerhalb der Anführungszeichen kann nahezu jedes beliebige Zeichen stehen.\n",
    "\n",
    "Aufpassen allerdings muss man, wenn man innerhalb eines *strings* ein Anführungszeichen nutzt möchte, denn dieser würde ja eigentlich den *string* beenden. Abhilfe schafft hier die Unterscheidung in einfache und doppelte Anführungszeichen:"
   ]
  },
  {
   "cell_type": "code",
   "execution_count": 4,
   "metadata": {},
   "outputs": [],
   "source": [
    "variable1 = \"Das ist bekannt.\"\n",
    "variable2 = \"Ich sagte: 'Hier haben wie zwei unterschiedliche Anführungszeichen'.\"\n",
    "variable3 = 'Sie antwortete: \"Und auch das geht.\"'\n",
    "variable4 = \"\"\"Mehrzeilige Zeichenketten schließt man am besten\n",
    "in drei Anführungszeichen ein. Dann weiß Python, \n",
    "dass sich die Zeichenkette über mehrere Zeilen erstreckt.\"\"\""
   ]
  },
  {
   "cell_type": "markdown",
   "metadata": {},
   "source": [
    "Im Alltag begegnet man vor allem den einfachen und den doppelten Anführungszeichen. Für welche man sich entscheidet, ist Geschmackssache. Wichtig ist nur, dass immer das zweite Anführungszeichen eines Paares die Zeichenkette wieder schließt.\n",
    "\n",
    "Eine Sonderform stellen Zeichenketten dar, die mit *drei* doppelten Anführungszeichen eingeleitet werden. Damit schließt man *strings* ein, in denen ein Zeilenumbruch vorkommt."
   ]
  },
  {
   "cell_type": "markdown",
   "metadata": {},
   "source": [
    "## Konkatenieren\n",
    "\n",
    "Zurück zu unserem ersten Zettel mit dem namen `zettel1`."
   ]
  },
  {
   "cell_type": "code",
   "execution_count": 7,
   "metadata": {},
   "outputs": [
    {
     "data": {
      "text/plain": [
       "'Guido van Rossum, De Serpenti Libri, 1455'"
      ]
     },
     "execution_count": 7,
     "metadata": {},
     "output_type": "execute_result"
    }
   ],
   "source": [
    "zettel1"
   ]
  },
  {
   "cell_type": "markdown",
   "metadata": {},
   "source": [
    "(Indem wir in einem *Jupyter Notebook* nur den Variablennamen in eine Code-Zelle einfügen, und diese Zeile dann druch das Drücken der Tasten `Shift + Enter` oder von `Strg + Enter` ausführen, können wir uns den Inhalt der Variable ansehen.)\n",
    "\n",
    "In ihm haben wir zwar drei bibliographischen Angaben eines Buches hinterlegt. Auf diese Weise fällt es uns aber schwer, auf die einzelnen semantischen Einheiten unseres Zettels wie Autor, Titel oder Jahreszahl zuzugreifen. Wir trennen deshalb zunächst die bibliographischen Angaben voneinander und setzen sie anschließend für unseren Zettel wieder zusammen."
   ]
  },
  {
   "cell_type": "code",
   "execution_count": 2,
   "metadata": {},
   "outputs": [],
   "source": [
    "autor = \"Guido van Rossum\"\n",
    "titel = \"De Serpenti Libri\"\n",
    "jahreszahl = 1455"
   ]
  },
  {
   "cell_type": "markdown",
   "metadata": {},
   "source": [
    "In einem ersten Schritt erstellen wir drei Variablen, eine für den Autor, eine für das Jahr der Veröffentlichung und eine für den Titel. In einem zweiten Schritt erstellen wir einen Zettel, der aus diesen Angaben besteht. Damit wir zwischen den einzelnen Angaben Kommata und Leerzeichen erhalten, müssen wir sie explizit mit einbauen. Dieses Verfahren, bei dem wir eine längere Zeichenkette aus einzelnen Abschnitten zusammensetzen, nennt sich *konkatenieren*."
   ]
  },
  {
   "cell_type": "code",
   "execution_count": 3,
   "metadata": {},
   "outputs": [
    {
     "ename": "TypeError",
     "evalue": "can only concatenate str (not \"int\") to str",
     "output_type": "error",
     "traceback": [
      "\u001b[0;31m---------------------------------------------------------------------------\u001b[0m",
      "\u001b[0;31mTypeError\u001b[0m                                 Traceback (most recent call last)",
      "\u001b[0;32m<ipython-input-3-9b167da2202d>\u001b[0m in \u001b[0;36m<module>\u001b[0;34m\u001b[0m\n\u001b[0;32m----> 1\u001b[0;31m \u001b[0mzettel2\u001b[0m \u001b[0;34m=\u001b[0m \u001b[0mautor\u001b[0m \u001b[0;34m+\u001b[0m \u001b[0;34m\", \"\u001b[0m \u001b[0;34m+\u001b[0m \u001b[0mtitel\u001b[0m \u001b[0;34m+\u001b[0m \u001b[0;34m\", \"\u001b[0m \u001b[0;34m+\u001b[0m \u001b[0mjahreszahl\u001b[0m\u001b[0;34m\u001b[0m\u001b[0;34m\u001b[0m\u001b[0m\n\u001b[0m",
      "\u001b[0;31mTypeError\u001b[0m: can only concatenate str (not \"int\") to str"
     ]
    }
   ],
   "source": [
    "zettel2 = autor + \", \" + titel + \", \" + jahreszahl"
   ]
  },
  {
   "cell_type": "markdown",
   "metadata": {},
   "source": [
    "Allerdings erhalten wir hierbei noch einen sogenannten *TypeError*: Zwei unterschiedliche Datentypen sollen miteiander konkateniert werden. Das kann Python aber nicht. Am Ende der Fehlermeldung erhalten wir den Hinweis, dass nur *strings* miteinander konkateniert werden können. Bei unserer Jahreszahl handelt es sich aber noch um eine *Zahl*, einen *integer*. Diese müssen wir noch in einen *strin* verwandeln, um sie mit anderen *strings* zusammensetzen zu können. Wir nutzen dafür die Funktion `str()`, die uns Python standardmäßig zur Verfügung stellt:"
   ]
  },
  {
   "cell_type": "code",
   "execution_count": 4,
   "metadata": {},
   "outputs": [],
   "source": [
    "jahr = str(jahreszahl)"
   ]
  },
  {
   "cell_type": "markdown",
   "metadata": {},
   "source": [
    "Nun tauschen wir in unserer Definition von `zettel2` die Variable `jahreszahl` mit `jahr` aus und können auf diese Weise die Angaben konkatenieren: "
   ]
  },
  {
   "cell_type": "code",
   "execution_count": 5,
   "metadata": {},
   "outputs": [],
   "source": [
    "zettel2 = autor + \", \" + titel + \", \" + jahr"
   ]
  },
  {
   "cell_type": "markdown",
   "metadata": {},
   "source": [
    "Keine Fehlermeldung! Und wenn wir uns den Inhalt der Variable anschauen, stellen wir fest, dass er identisch mit dem Inhalt von unserem ersten Zettel ist."
   ]
  },
  {
   "cell_type": "code",
   "execution_count": 6,
   "metadata": {},
   "outputs": [
    {
     "data": {
      "text/plain": [
       "'Guido van Rossum, De Serpenti Libri, 1455'"
      ]
     },
     "execution_count": 6,
     "metadata": {},
     "output_type": "execute_result"
    }
   ],
   "source": [
    "zettel2"
   ]
  },
  {
   "cell_type": "markdown",
   "metadata": {},
   "source": [
    "Das können wir überprüfen, indem wir den `==`-Operator verwenden. Mit ihm setzt man nicht gleich wie bei `=`, sondern man prüft, ob die beiden Werte links und rechts neben dem doppelten Gleichheitszeichen identisch sind. Als Rückgabewert erhalten wir `True`, das heißt `zettel1` entspricht `zettel2`."
   ]
  },
  {
   "cell_type": "code",
   "execution_count": 8,
   "metadata": {},
   "outputs": [
    {
     "data": {
      "text/plain": [
       "True"
      ]
     },
     "execution_count": 8,
     "metadata": {},
     "output_type": "execute_result"
    }
   ],
   "source": [
    "zettel1 == zettel2"
   ]
  },
  {
   "cell_type": "markdown",
   "metadata": {},
   "source": [
    "Das Praktische daran, die bibliographischen Daten voneinander zu trennen, ist, dass wir sie einzeln bearbeiten können.\n",
    "..."
   ]
  },
  {
   "cell_type": "code",
   "execution_count": 1,
   "metadata": {},
   "outputs": [
    {
     "ename": "NameError",
     "evalue": "name 'zettel1' is not defined",
     "output_type": "error",
     "traceback": [
      "\u001b[0;31m---------------------------------------------------------------------------\u001b[0m",
      "\u001b[0;31mNameError\u001b[0m                                 Traceback (most recent call last)",
      "\u001b[0;32m<ipython-input-1-04315e3e8124>\u001b[0m in \u001b[0;36m<module>\u001b[0;34m\u001b[0m\n\u001b[1;32m     12\u001b[0m \u001b[0mzettel3\u001b[0m \u001b[0;34m=\u001b[0m \u001b[0;34m\"{}, {}, {}\"\u001b[0m\u001b[0;34m.\u001b[0m\u001b[0mformat\u001b[0m\u001b[0;34m(\u001b[0m\u001b[0mautor\u001b[0m\u001b[0;34m,\u001b[0m \u001b[0mjahr\u001b[0m\u001b[0;34m,\u001b[0m \u001b[0mtitel\u001b[0m\u001b[0;34m)\u001b[0m\u001b[0;34m\u001b[0m\u001b[0;34m\u001b[0m\u001b[0m\n\u001b[1;32m     13\u001b[0m \u001b[0;34m\u001b[0m\u001b[0m\n\u001b[0;32m---> 14\u001b[0;31m \u001b[0mkasten\u001b[0m \u001b[0;34m=\u001b[0m \u001b[0;34m[\u001b[0m\u001b[0mzettel1\u001b[0m\u001b[0;34m,\u001b[0m \u001b[0mzettel2\u001b[0m\u001b[0;34m]\u001b[0m\u001b[0;34m\u001b[0m\u001b[0;34m\u001b[0m\u001b[0m\n\u001b[0m\u001b[1;32m     15\u001b[0m \u001b[0;34m\u001b[0m\u001b[0m\n\u001b[1;32m     16\u001b[0m \u001b[0mkasten\u001b[0m\u001b[0;34m.\u001b[0m\u001b[0mappend\u001b[0m\u001b[0;34m(\u001b[0m\u001b[0mzettel3\u001b[0m\u001b[0;34m)\u001b[0m\u001b[0;34m\u001b[0m\u001b[0;34m\u001b[0m\u001b[0m\n",
      "\u001b[0;31mNameError\u001b[0m: name 'zettel1' is not defined"
     ]
    }
   ],
   "source": [
    "\n",
    "\n",
    "\n",
    "\n",
    "jahr = str(zahl)\n",
    "\n",
    "autor = autor.upper()\n",
    "titel = titel.lower()\n",
    "\n",
    "\n",
    "\n",
    "\n",
    "# Interpolieren\n",
    "zettel3 = \"{}, {}, {}\".format(autor, jahr, titel)\n",
    "\n",
    "\n",
    "\n",
    "kasten = [zettel1, zettel2]\n",
    "\n",
    "kasten.append(zettel3)\n",
    "\n",
    "print(kasten)\n",
    "for zettel in kasten:\n",
    "    print(zettel)\n",
    "\n",
    "counted = len(kasten)\n",
    "print(counted)\n",
    "\n",
    "zettelkasten = []\n",
    "\n",
    "zettel = {\"author\": autor, \"title\": titel, \"year\": zahl}\n",
    "zettelkasten.append(zettel)\n",
    "zettelkasten.append(zettel)\n",
    "zettelkasten.append(zettel)\n"
   ]
  },
  {
   "cell_type": "code",
   "execution_count": null,
   "metadata": {},
   "outputs": [],
   "source": []
  }
 ],
 "metadata": {
  "kernelspec": {
   "display_name": "Python 3",
   "language": "python",
   "name": "python3"
  },
  "language_info": {
   "codemirror_mode": {
    "name": "ipython",
    "version": 3
   },
   "file_extension": ".py",
   "mimetype": "text/x-python",
   "name": "python",
   "nbconvert_exporter": "python",
   "pygments_lexer": "ipython3",
   "version": "3.8.5"
  }
 },
 "nbformat": 4,
 "nbformat_minor": 4
}
