{
 "cells": [
  {
   "cell_type": "markdown",
   "metadata": {},
   "source": [
    "# Python installieren und laufen lassen\n",
    "\n",
    "Es gibt viele verschiedene Methoden Python-Skripte zu schreiben und dann laufen zu lassen. Grundsätzlich kann man auf dem __eigenen Rechner__ Python installieren und __lokal__ laufen lassen oder man nutzt eine __Online-Installation__ auf einem __Webserver__, auf den man über das Internet zugreift.\n",
    "\n",
    "## Lokale Installation\n",
    "\n",
    "Der Vorteil der lokalen Installation besteht darin, dass man sich die gesamte Programmierumgebung ganz nach den eigenen Bedürfnissen einrichten kann. Allerdings muss man sich dann auch mit vielen Einzelaspekten beschäftigen und vieles selbst zusammenstellen.\n",
    "\n",
    "Für Datenanalysen eignet sich die Python-Distribution __[Anaconda](https://www.anaconda.com/products/individual)__ sehr gut. Anaconda enthält Python, einen Editor, in dem komfortabel Python-Skripte geschrieben werden können und zahlreiche Module, die für Datenanalysen wichtig sind.\n",
    "\n",
    "__Unser Tipp:__ Wer sich für eine lokale Installation von Anaconda entscheidet, sollte bei [Youtube nach Videos suchen](https://www.youtube.com/results?search_query=anaconda+installieren), die Schritt für Schritt erklären, wie das geht."
   ]
  },
  {
   "cell_type": "markdown",
   "metadata": {},
   "source": [
    "## Module und Bibliotheken\n",
    "\n",
    "Python ist eine mächtige Programmiersprache, mit der man fast alles machen kann. Jede\\*r kann die Grundfunktionen um weitere Funktionen erweitern. Solche Erweiterungen werden oft von Entwickler\\*innen zur Verfügung gestellt und können bei Bedarf der Python-Installation auf dem eigenen Rechner hinzugefügt werden. Diese Erweiterungen nennt man __Module__. Mehrere Module können zu __Bibliotheken__ zusammengefasst werden.\n",
    "\n",
    "Die Grundfunktionen von Python sind in der sogenannten __Standardbibliothek__ enthalten. Diese ist immer verfügbar, man muss sie nicht eigens öffnen oder laden. Alle weiteren Module und Bibliotheken müssen in jedem Skript explizit eingebunden werden.\n",
    "Man kann sich das wie einen großen __Werkzeugkasten__ vorstellen, der allerlei Werkzeuge enthält. Statt immer den ganzen Kasten herumzuschleppen, entnimmt man nur die Werkzeuge, die man für die aktuelle Aufgabe wirklich braucht. Das macht Python schnell, schlank und adaptierbar.\n",
    "\n",
    "Anaconda ist ein guter Startpunkt, weil es viele verbreitete Bibliotheken zur Datenanalyse schon enthält und auf allen gängigen Betriebssystemen (Windows, Mac, Linux) installiert werden kann."
   ]
  },
  {
   "cell_type": "markdown",
   "metadata": {},
   "source": [
    "## Online-Installation\n",
    "\n",
    "Man kann Python-Skripte auch schreiben und laufen lassen, ohne das Programm auf dem eigenen Rechner zu installieren. Der größte Nachteil besteht in der deutlich schlechtern Performance dieser Distributionen, die für die Verarbeitung großer Datenmengen nicht ausreichend ist. Zum Üben und schnellen Ausprobieren sind Online-Distributionen aber sehr gut geeignet.\n",
    "\n",
    "Eine sehr einfache und doch mächtige Online-Distribution bietet __[repl.it](https://repl.it/languages/python3)__ an. Ohne Anmeldung kann man sofort beginnen, Skripte zu schreiben, eigene Module hinzuzuladen. Wer sich registriert, kann die eigenen Skripte auch direkt in dem Dienst abspeichern."
   ]
  },
  {
   "cell_type": "markdown",
   "metadata": {},
   "source": [
    "## Jupyter Notebooks\n",
    "\n",
    "Das hier ist ein Jupyter Notebook. Das sind spezielle interaktive Webdokumente, die ganz unterschiedliche Inhalte haben können. Zum einen kann man Text, Bilder und ähnliche Elemente hier so anzeigen, wie man das auf jeder Webseite kann.\n",
    "\n",
    "Man kann aber auch Code-Zellen einfügen, die Python-Programmcode enthalten können, der direkt im Notebook ausgeführt werden kann.\n",
    "\n",
    "Die folgende hellgrau hinterlegte Zelle mit den eckigen Klammern `[ ]:` davor ist so eine Codezelle. Klickt man hinein, kann man darin Python-Code schreiben. Der Code wird ausgeführt, wenn man oben in der Menüleiste auf den Play-Button klickt oder wenn man in der Zelle `Shift + Enter` drückt.\n",
    "\n",
    "Probiere es einmal aus und schreibe in die Zelle direkt hier drunter den folgenden Code und drücke anschließend `Shift + Enter`:\n",
    "\n",
    "`print(\"Hallo Welt!\")`"
   ]
  },
  {
   "cell_type": "code",
   "execution_count": 3,
   "metadata": {},
   "outputs": [
    {
     "name": "stdout",
     "output_type": "stream",
     "text": [
      "Oh mein Gott!\n"
     ]
    }
   ],
   "source": [
    "print(\"Oh mein Gott!\")"
   ]
  },
  {
   "cell_type": "markdown",
   "metadata": {},
   "source": [
    "Wenn es funktioniert hat, steht jetzt in den eckigen Klammern vor der Zelle eine Eins `[1]:`.\n",
    "\n",
    "Unter der Zelle steht in schwarz:\n",
    "\n",
    "`Hallo Welt!`\n",
    "\n",
    "und der Code in der Zelle ist farbig formatiert. Beim Ausführen der Zelle sendet das Jupyter Notebook Code der Zelle an die Python-Installation auf dem Rechner und schreibt das Ergebnis der Berechnung direkt unter die Zelle.\n",
    "\n",
    "Du kannst zwischen die doppelten Anführungszeichen einen beliebigen anderen Text schreiben und wirst den dann als Ausgabe unter der Zelle sehen, wenn Du die Zelle noch einmal berechnen lässt. Es ändert sich dann die `[1]:` zu `[2]:`. Die Ziffern vorn den Codezellen zählen fortlaufend in welcher Reihenfolge sie ausgeführt wurden.\n",
    "\n",
    "Der Vorteil des ganzen: wir können sehr schnell und einfach Code testen und sehen sofort die Ergebnisse und können mit den Textblöcken zwischen dem Code ausführliche Kommentare zu unserem Code festhalten, damit andere oder wir selbst später den Code noch nachvollziehen können.\n",
    "\n",
    "Eine Zelle kann auch mehrere Zeilen Code enthalten:"
   ]
  },
  {
   "cell_type": "code",
   "execution_count": 4,
   "metadata": {},
   "outputs": [
    {
     "name": "stdout",
     "output_type": "stream",
     "text": [
      "Das ist meine erste Nachricht.\n",
      "Und das ist die zweite.\n"
     ]
    }
   ],
   "source": [
    "print(\"Das ist meine erste Nachricht.\")\n",
    "print(\"Und das ist die zweite.\")"
   ]
  },
  {
   "cell_type": "markdown",
   "metadata": {},
   "source": [
    "Herzlichen Glückwunsch. Du hast Deinen ersten Python-Code geschrieben und erfolgreich ausgeführt."
   ]
  },
  {
   "cell_type": "markdown",
   "metadata": {},
   "source": [
    "## Jupyter Notebooks installieren und starten\n",
    "\n",
    "Jupyter Notebooks ist Teil von Anaconda. Wenn Du Anaconda installiert hast, navigierst Du in Deinem Terminal in ein beliebiges Verzeichnis, in dem Du entweder neue Notebooks abspeichern willst oder schon welche abgelegt hast und gibst dort ein\n",
    "\n",
    "`jupyter lab`\n",
    "\n",
    "Es wird dann ein lokaler Webserver gestartet, auf dem die Notebooks laufen. Außerdem öffnet sich ein Browser mit der Oberfläche von JupyterLab, in der Du Jupyter Notebooks erstellen kannst."
   ]
  },
  {
   "cell_type": "code",
   "execution_count": null,
   "metadata": {},
   "outputs": [],
   "source": []
  }
 ],
 "metadata": {
  "kernelspec": {
   "display_name": "Python 3",
   "language": "python",
   "name": "python3"
  },
  "language_info": {
   "codemirror_mode": {
    "name": "ipython",
    "version": 3
   },
   "file_extension": ".py",
   "mimetype": "text/x-python",
   "name": "python",
   "nbconvert_exporter": "python",
   "pygments_lexer": "ipython3",
   "version": "3.8.5"
  }
 },
 "nbformat": 4,
 "nbformat_minor": 4
}
