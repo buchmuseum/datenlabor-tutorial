{
 "cells": [
  {
   "cell_type": "markdown",
   "metadata": {},
   "source": [
    "# 4 Schleifen und Verzweigungen\n",
    "\n",
    "Im vorigen [Notebook](03_Zettelkasten.ipynb) haben wir uns angesehen, wie sich ein herkömmlicher Zettelkasten mithilfe von Python auf den Computer übertragen lässt. Dabei haben wir uns elementare Datentypen wie *strings*, *integers*, *lists* und *dictionaries* angesehen, Programmiertechniken wie Konkatenieren und Interpolieren sowie *indexing* und *slicing* kennengelernt.\n",
    "\n",
    "Am Ende haben wir einen Zettelkasten erstellt, in dem sich vier Zettel mit Beispieltiteln befanden, auf deren bibliographische Angaben wir einzeln zugreifen konnten.\n",
    "\n",
    "Bislang war es uns aber noch nicht möglich, eine Liste beispielsweise mit allen Titeln auszugeben. Darum kümmern wir uns jetzt!\n",
    "\n",
    "Dafür erstellen wir zunächst wieder unseren semantisch ausgezeichneten Zettelkasten. (Wir müssen das noch einmal machen, weil wir in diesem Notebook nicht auf die Variablen des anderen Notebooks zugreifen können.)"
   ]
  },
  {
   "cell_type": "code",
   "execution_count": 1,
   "metadata": {},
   "outputs": [
    {
     "data": {
      "text/plain": [
       "[{'autor': 'Guido van Rossum', 'titel': 'De Serpenti Libri', 'jahr': 1455},\n",
       " {'autor': 'Monty Python', 'titel': 'Flying Circus', 'jahr': 1969},\n",
       " {'autor': 'Umberto Eco', 'titel': 'Il nome della rosa', 'jahr': 1982},\n",
       " {'autor': 'Goethe', 'titel': 'Wahlverwandtschaften', 'jahr': 1809}]"
      ]
     },
     "execution_count": 1,
     "metadata": {},
     "output_type": "execute_result"
    }
   ],
   "source": [
    "zettel1 = {\"autor\": \"Guido van Rossum\", \"titel\": \"De Serpenti Libri\", \"jahr\": 1455}\n",
    "zettel2 = {\"autor\": \"Monty Python\", \"titel\": \"Flying Circus\", \"jahr\": 1969}\n",
    "zettel3 = {\"autor\": \"Umberto Eco\", \"titel\": \"Il nome della rosa\", \"jahr\": 1982}\n",
    "zettel4 = {\"autor\": \"Goethe\", \"titel\": \"Wahlverwandtschaften\", \"jahr\": 1809}\n",
    "           \n",
    "kasten = [zettel1, zettel2, zettel3, zettel4]\n",
    "kasten"
   ]
  },
  {
   "cell_type": "markdown",
   "metadata": {},
   "source": [
    "## Schleifen\n",
    "\n",
    "Um alle Titel auszugeben, müssen wir uns jeden Zettel einzeln vornehmen. Dafür nutzen wir eine sogenannte Schleife. Die häufigste – und einfachste – Schleife ist die `for`-Schleife. "
   ]
  },
  {
   "cell_type": "code",
   "execution_count": 2,
   "metadata": {},
   "outputs": [
    {
     "name": "stdout",
     "output_type": "stream",
     "text": [
      "{'autor': 'Guido van Rossum', 'titel': 'De Serpenti Libri', 'jahr': 1455}\n",
      "{'autor': 'Monty Python', 'titel': 'Flying Circus', 'jahr': 1969}\n",
      "{'autor': 'Umberto Eco', 'titel': 'Il nome della rosa', 'jahr': 1982}\n",
      "{'autor': 'Goethe', 'titel': 'Wahlverwandtschaften', 'jahr': 1809}\n"
     ]
    }
   ],
   "source": [
    "for zettel in kasten:\n",
    "    print(zettel)"
   ]
  },
  {
   "cell_type": "markdown",
   "metadata": {},
   "source": [
    "Das Ganze lässt sich so lesen: Vergib den Variablennamen `zettel` für das erste Elemente aus der Liste namens `kasten` und führe die Anweisungen im Block aus. Anschließend nimm das nächste Element der Liste, nenne es wieder `zettel` und führe dieselben Anweisungen aus, bis sich kein Element mehr in der Liste befindet. \n",
    "\n",
    "Als *Block* bezeichnet man in Python die Anweisungen, die auf einen Doppelpunkt folgen und in der nächsten Zeile um (in der Regel) vier Leerzeichen eingerückt sind. In unserem Fall besteht der Block nur aus der Funktion `print(zettel)`.\n",
    "\n",
    "Im Programmiererjargon sagt man auch, man *iteriert* über die Liste. Welchen Variablennamen man für die einzelnen Elemente vergibt, ist dabei irrelevant. Deshalb erzeugt die folgende `for`-Schleife die gleiche Ausgabe:"
   ]
  },
  {
   "cell_type": "code",
   "execution_count": 2,
   "metadata": {},
   "outputs": [
    {
     "name": "stdout",
     "output_type": "stream",
     "text": [
      "{'autor': 'Guido van Rossum', 'titel': 'De Serpenti Libri', 'jahr': 1455}\n",
      "{'autor': 'Monty Python', 'titel': 'Flying Circus', 'jahr': 1969}\n",
      "{'autor': 'Umberto Eco', 'titel': 'Il nome della rosa', 'jahr': 1982}\n",
      "{'autor': 'Goethe', 'titel': 'Wahlverwandtschaften', 'jahr': 1809}\n"
     ]
    }
   ],
   "source": [
    "for kauderwelsch in kasten:\n",
    "    print(kauderwelsch)"
   ]
  },
  {
   "cell_type": "markdown",
   "metadata": {},
   "source": [
    "Der Inhalt der Variable `kauderwelsch` entspricht am Ende der Schleife, dem Inhalt des letzten Elements."
   ]
  },
  {
   "cell_type": "code",
   "execution_count": 3,
   "metadata": {},
   "outputs": [
    {
     "data": {
      "text/plain": [
       "{'autor': 'Goethe', 'titel': 'Wahlverwandtschaften', 'jahr': 1809}"
      ]
     },
     "execution_count": 3,
     "metadata": {},
     "output_type": "execute_result"
    }
   ],
   "source": [
    "kauderwelsch"
   ]
  },
  {
   "cell_type": "markdown",
   "metadata": {},
   "source": [
    "Um herauszufinden, wie viele Elemente sich in einer Liste befinden, wie oft also die Schleife durchlaufen werden muss, können wir die Länge der Liste bestimmen: "
   ]
  },
  {
   "cell_type": "code",
   "execution_count": 4,
   "metadata": {},
   "outputs": [
    {
     "data": {
      "text/plain": [
       "4"
      ]
     },
     "execution_count": 4,
     "metadata": {},
     "output_type": "execute_result"
    }
   ],
   "source": [
    "len(kasten)"
   ]
  },
  {
   "cell_type": "markdown",
   "metadata": {},
   "source": [
    "Kommen wir zurück zu der Frage, wie wir einzelne Elemente aus einer Liste mit *dictionaries* ausgeben können! Wir iterieren dafür über die Liste `kasten` und greifen mithilfe des Schlüssels `titel` auf den Wert des jeweiligen *dictionarys* zu."
   ]
  },
  {
   "cell_type": "code",
   "execution_count": 6,
   "metadata": {},
   "outputs": [
    {
     "name": "stdout",
     "output_type": "stream",
     "text": [
      "De Serpenti Libri\n",
      "Flying Circus\n",
      "Il nome della rosa\n",
      "Wahlverwandtschaften\n"
     ]
    }
   ],
   "source": [
    "for zettel in kasten:\n",
    "    print(zettel['titel'])"
   ]
  },
  {
   "cell_type": "markdown",
   "metadata": {},
   "source": [
    "Auf diese Weise können wir auch eine Liste aller Titel erstellen. Wir legen dafür zunächst eine leere Liste namens `titel` an und ergänzen im Block der Schleife den entsprechenden Wert aus dem Zettel:"
   ]
  },
  {
   "cell_type": "code",
   "execution_count": 7,
   "metadata": {},
   "outputs": [
    {
     "data": {
      "text/plain": [
       "['De Serpenti Libri',\n",
       " 'Flying Circus',\n",
       " 'Il nome della rosa',\n",
       " 'Wahlverwandtschaften']"
      ]
     },
     "execution_count": 7,
     "metadata": {},
     "output_type": "execute_result"
    }
   ],
   "source": [
    "# Erstellt eine neue leere Liste.\n",
    "titel = []\n",
    "\n",
    "# Iteriert über die Zettelkasten-Liste.\n",
    "for zettel in kasten:\n",
    "    # Fügt die Titel der neuen Liste zu.\n",
    "    titel.append(zettel['titel'])\n",
    "\n",
    "titel"
   ]
  },
  {
   "cell_type": "markdown",
   "metadata": {},
   "source": [
    "Ebenfalls möglich ist es, den Inahlt der Zettel zu einzelnen Sätzen zusammensetzen. (In diesem Fall interpolieren wir.)"
   ]
  },
  {
   "cell_type": "code",
   "execution_count": 8,
   "metadata": {},
   "outputs": [
    {
     "name": "stdout",
     "output_type": "stream",
     "text": [
      "Guido van Rossum schuf sein Werk De Serpenti Libri im Jahr 1455.\n",
      "Monty Python schuf sein Werk Flying Circus im Jahr 1969.\n",
      "Umberto Eco schuf sein Werk Il nome della rosa im Jahr 1982.\n",
      "Goethe schuf sein Werk Wahlverwandtschaften im Jahr 1809.\n"
     ]
    }
   ],
   "source": [
    "for zettel in kasten:\n",
    "    print(f\"{zettel['autor']} schuf sein Werk {zettel['titel']} im Jahr {zettel['jahr']}.\")"
   ]
  },
  {
   "cell_type": "markdown",
   "metadata": {},
   "source": [
    "Es ist auch möglich, Schleifen innerhalb von Schleifen durchlaufen zu lassen. Dadurch können wir beispielsweise den Inhalt der Zettel strukturiert ausgeben:"
   ]
  },
  {
   "cell_type": "code",
   "execution_count": 9,
   "metadata": {},
   "outputs": [
    {
     "name": "stdout",
     "output_type": "stream",
     "text": [
      "Angaben zu Zettel 1 von 4:\n",
      "Autor: Guido van Rossum\n",
      "Titel: De Serpenti Libri\n",
      "Jahr: 1455\n",
      "\n",
      "Angaben zu Zettel 2 von 4:\n",
      "Autor: Monty Python\n",
      "Titel: Flying Circus\n",
      "Jahr: 1969\n",
      "\n",
      "Angaben zu Zettel 3 von 4:\n",
      "Autor: Umberto Eco\n",
      "Titel: Il nome della rosa\n",
      "Jahr: 1982\n",
      "\n",
      "Angaben zu Zettel 4 von 4:\n",
      "Autor: Goethe\n",
      "Titel: Wahlverwandtschaften\n",
      "Jahr: 1809\n",
      "\n"
     ]
    }
   ],
   "source": [
    "anzahl_zettel = len(kasten)\n",
    "zettel_nummer = 0\n",
    "\n",
    "for zettel in kasten:\n",
    "    zettel_nummer += 1\n",
    "    print(f\"Angaben zu Zettel {zettel_nummer} von {anzahl_zettel}:\")\n",
    "    for k, v in zettel.items():\n",
    "        print(f\"{k.capitalize()}: {v}\")\n",
    "    print(\"\")"
   ]
  },
  {
   "cell_type": "markdown",
   "metadata": {},
   "source": [
    "Dafür speichern wir in der Variable `anzahl_zettel`, wie viele Elemente in der Liste `kasten` enthalten sind. Danach legen wir die Variable `zettel_nummer` an und setzen ihren Anfangswert auf `0`. Diese Variable nutzen wir innerhalb der Schleife als Zähler.\n",
    "\n",
    "Dann beginnen wir unsere erste Schleife nach dem bekannten Muster. Im Block erhöhen wir als erstes die Zähl-Variable um Eins. Dann geben wir eine Überschrift aus, in der wir angeben, um welchen Zetteln von wie viel Zetteln insgesamt es im Folgenden geht.\n",
    "\n",
    "Anschließend beginnen wir eine zweite Schleife, während die erste noch läuft. Wir greifen mit der Methode `.items()` auf die Schlüssel-Wert-Paare des *dictionarys* zu und folgen einer Konvention der Python-Community, indem wir die Schlüssel mit dem Variablennamen `k` und  die Werte mit `v` bezeichnen. Der Doppelpunkt und die vier Leerzeichen in der nächsten Zeile eröffnen den zweiten Block. In ihm wird ein formatierter *string* ausgegeben, in den wir die Schlüssel-Werte am Anfang mit einem Großbuchstaben ausgeben (`k.capitalize()`) und dann die zugehörigen Werte.\n",
    "\n",
    "Schließlich folgt eine *print*-Anweisung, diesmal aber wieder auf der Ebene des ersten Blocks, in der nur eine leere Zeile – der Ästhetik halber – ausgegeben wird."
   ]
  },
  {
   "cell_type": "markdown",
   "metadata": {},
   "source": [
    "## Verzweigungen\n",
    "\n",
    "Manchmal sollen Teile des Programmcodes nur dann ausgeführt werden, wenn bestimmte Bedingungen erfüllt sind. Dafür gibt es in Python __Verzweigungen__. Sie funktionieren nach dem Schema: _wenn_ Bedingung erfüllt ist, _dann_ mache dieses, _sonst_ mache jenes.\n",
    "\n",
    "Im folgenden Beispiel wollen wir überprüfen, ob ein Zettel unseres Zettelkastens einen bestimmten Text enthält. Wenn der Text in dem Zettel entalten ist, soll eine Erfolgsmeldung ausgegeben werden und ein Trefferzähler wird hochgezählt. Wenn der Text nicht gefunden wird, wird eine Fehlermeldung ausgegeben. Am Ende gibt es eine kleine Zusammenfassung des Suchvorgangs."
   ]
  },
  {
   "cell_type": "code",
   "execution_count": 16,
   "metadata": {},
   "outputs": [
    {
     "name": "stdout",
     "output_type": "stream",
     "text": [
      "Leider nicht gefunden...\n",
      "Hab ihn auf Zettel 2 gefunden!\n",
      "Leider nicht gefunden...\n",
      "Leider nicht gefunden...\n",
      "Python wurde 1-mal gefunden! Und zwar auf Zettel [2] von insgesamt 4.\n"
     ]
    }
   ],
   "source": [
    "#Zuerst legen wir das Suchkriterium fest. In diesem Beispiel soll der Zettel die Zeichenfolge \"Python\" enthalten.\n",
    "#Wir könnten jeden anderen beliebigen Text hier eingeben.\n",
    "finde = \"Python\"\n",
    "\n",
    "#Wir setzen den Treffelzähler auf 0.\n",
    "anzahl_treffer = 0\n",
    "\n",
    "#Die Gesamtzahl der Zettel ermitteln wir anhand der Länge der Liste.\n",
    "anzahl_gesamt = len(kasten)\n",
    "\n",
    "#Den Zähler des aktuellen Zettels beim Durchlauf durch die Schleife setzen wir ebenfalls zu Anfang auf 0-\n",
    "zettel_nummer = 0\n",
    "\n",
    "#In der Treffeliste speichern wir die Nummern aller Zettel ab, auf denen es einen Treffer gibt.\n",
    "treffer_liste = []\n",
    "\n",
    "#Mit der For-Schleife gehen wir den Kasten Zettel für Zettel durch.\n",
    "for zettel in kasten:\n",
    "    #Bei jedem Durchlauf wird der Zettelzähler um 1 erhöht.\n",
    "    zettel_nummer += 1\n",
    "    if finde in zettel[\"autor\"]:\n",
    "        #die Anweisungen in diesem Block werden ausgeführt, wenn die Bedingung in der Einleitung zum Block wahr ist.\n",
    "        #hier also: wenn im Dictionary zettel der Wert des Schlüssels 'autor' den Text der Variable 'finde' enthält.\n",
    "        print(f\"Hab ihn auf Zettel {zettel_nummer} gefunden!\")\n",
    "        anzahl_treffer += 1\n",
    "        treffer_liste.append(zettel_nummer)\n",
    "    else:\n",
    "        #Die Anweisungen in diesem Block werden ausgeführt, wenn die Bedingung in der Einleitung des Blockes nicht war ist.\n",
    "        print('Leider nicht gefunden...')\n",
    "\n",
    "print(f\"{finde} wurde {anzahl_treffer}-mal gefunden! Und zwar auf Zettel {treffer_liste} von insgesamt {anzahl_gesamt}.\")\n"
   ]
  },
  {
   "cell_type": "markdown",
   "metadata": {},
   "source": [
    "Verändere den Suchalgorithmus einfach ein bisschen, indem Du den Suchtext in der Variable `finde` änderst oder in einem anderen Wert des Dictionarys suchst, z.B. im Titel."
   ]
  },
  {
   "cell_type": "markdown",
   "metadata": {},
   "source": [
    "### Aufgabe\n",
    "\n",
    "Verändere den Algorithmus so, dass nur Zettel gefunden von Büchern, die nach 1900 erschienen sind."
   ]
  },
  {
   "cell_type": "code",
   "execution_count": null,
   "metadata": {},
   "outputs": [],
   "source": []
  }
 ],
 "metadata": {
  "kernelspec": {
   "display_name": "Python 3",
   "language": "python",
   "name": "python3"
  },
  "language_info": {
   "codemirror_mode": {
    "name": "ipython",
    "version": 3
   },
   "file_extension": ".py",
   "mimetype": "text/x-python",
   "name": "python",
   "nbconvert_exporter": "python",
   "pygments_lexer": "ipython3",
   "version": "3.7.3"
  }
 },
 "nbformat": 4,
 "nbformat_minor": 4
}
