{
 "cells": [
  {
   "cell_type": "markdown",
   "metadata": {},
   "source": [
    "# 4 Schleifen und Verzweigungen\n",
    "\n",
    "Im vorigen [Notebook](03_Zettelkasten.ipynb) haben wir uns angesehen, wie sich ein herkömmlicher Zettelkasten mithilfe von Python auf den Computer übertragen lässt. Dabei haben wir uns elementare Datentypen wie *strings*, *integers*, *lists* und *dictionaries* angesehen, Programmiertechniken wie Konkatenieren und Interpolieren sowie *indexing* und *slicing* kennengelernt.\n",
    "\n",
    "Am Ende haben wir einen Zettelkasten erstellt, in dem sich vier Zettel mit Beispieltiteln befanden, auf deren bibliographische Angaben wir einzeln zugreifen konnten.\n",
    "\n",
    "Bislang war es uns aber noch nicht möglich, eine Liste beispielsweise mit allen Titeln auszugeben. Darum kümmern wir uns jetzt!\n",
    "\n",
    "Dafür erstellen wir zunächst wieder unseren semantisch ausgezeichneten Zettelkasten:"
   ]
  },
  {
   "cell_type": "code",
   "execution_count": 1,
   "metadata": {},
   "outputs": [
    {
     "data": {
      "text/plain": [
       "[{'autor': 'Guido van Rossum', 'titel': 'De Serpenti Libri', 'jahr': 1455},\n",
       " {'autor': 'Monty Python', 'titel': 'Flying Circus', 'jahr': 1969},\n",
       " {'autor': 'Umberto Eco', 'titel': 'Il nome della rosa', 'jahr': 1982},\n",
       " {'autor': 'Goethe', 'titel': 'Wahlverwandtschaften', 'jahr': 1809}]"
      ]
     },
     "execution_count": 1,
     "metadata": {},
     "output_type": "execute_result"
    }
   ],
   "source": [
    "zettel1 = {\"autor\": \"Guido van Rossum\", \"titel\": \"De Serpenti Libri\", \"jahr\": 1455}\n",
    "zettel2 = {\"autor\": \"Monty Python\", \"titel\": \"Flying Circus\", \"jahr\": 1969}\n",
    "zettel3 = {\"autor\": \"Umberto Eco\", \"titel\": \"Il nome della rosa\", \"jahr\": 1982}\n",
    "zettel4 = {\"autor\": \"Goethe\", \"titel\": \"Wahlverwandtschaften\", \"jahr\": 1809}\n",
    "           \n",
    "kasten = [zettel1, zettel2, zettel3, zettel4]\n",
    "kasten"
   ]
  },
  {
   "cell_type": "markdown",
   "metadata": {},
   "source": [
    "## Schleifen\n",
    "\n",
    "Um alle Titel auszugeben, müssen wir uns jeden Zettel einzeln vornehmen. Dafür nutzen wir eine sogenannte Schleife. Die häufigste - und einfachste - Schleife ist die `for`-Schleife. "
   ]
  },
  {
   "cell_type": "code",
   "execution_count": 2,
   "metadata": {},
   "outputs": [
    {
     "name": "stdout",
     "output_type": "stream",
     "text": [
      "{'autor': 'Guido van Rossum', 'titel': 'De Serpenti Libri', 'jahr': 1455}\n",
      "{'autor': 'Monty Python', 'titel': 'Flying Circus', 'jahr': 1969}\n",
      "{'autor': 'Umberto Eco', 'titel': 'Il nome della rosa', 'jahr': 1982}\n",
      "{'autor': 'Goethe', 'titel': 'Wahlverwandtschaften', 'jahr': 1809}\n"
     ]
    }
   ],
   "source": [
    "for zettel in kasten:\n",
    "    print(zettel)"
   ]
  },
  {
   "cell_type": "code",
   "execution_count": null,
   "metadata": {},
   "outputs": [],
   "source": [
    "\n",
    "print(kasten)\n",
    "for zettel in kasten:\n",
    "    print(zettel)\n",
    "\n",
    "counted = len(kasten)\n",
    "print(counted)\n",
    "\n",
    "zettelkasten = []\n",
    "\n",
    "zettel = {\"author\": autor, \"title\": titel, \"year\": zahl}\n",
    "zettelkasten.append(zettel)\n",
    "zettelkasten.append(zettel)\n",
    "zettelkasten.append(zettel)\n",
    "\n",
    "\n",
    "counter = 0\n",
    "for zettel in zettelkasten:\n",
    "    for k, v in zettel.items():\n",
    "        print(\"{}: {}\".format(k, v))\n",
    "    counter += zettel.get(\"year\")\n",
    "\n",
    "print(counter)\n",
    "\n",
    "finde = \"Guido\".upper()\n",
    "\n",
    "if finde in zettel.get(\"author\"):\n",
    "    print('Hab ihn!')\n",
    "else:\n",
    "    print('Leider nicht gefunden...')\n"
   ]
  }
 ],
 "metadata": {
  "kernelspec": {
   "display_name": "Python 3",
   "language": "python",
   "name": "python3"
  },
  "language_info": {
   "codemirror_mode": {
    "name": "ipython",
    "version": 3
   },
   "file_extension": ".py",
   "mimetype": "text/x-python",
   "name": "python",
   "nbconvert_exporter": "python",
   "pygments_lexer": "ipython3",
   "version": "3.8.5"
  }
 },
 "nbformat": 4,
 "nbformat_minor": 4
}
