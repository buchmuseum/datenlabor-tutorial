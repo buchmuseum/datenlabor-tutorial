{
 "cells": [
  {
   "cell_type": "markdown",
   "metadata": {},
   "source": [
    "# 4 Schleifen und Verzweigungen"
   ]
  },
  {
   "cell_type": "code",
   "execution_count": null,
   "metadata": {},
   "outputs": [],
   "source": [
    "counter = 0\n",
    "for zettel in zettelkasten:\n",
    "    for k, v in zettel.items():\n",
    "        print(\"{}: {}\".format(k, v))\n",
    "    counter += zettel.get(\"year\")\n",
    "\n",
    "print(counter)\n",
    "\n",
    "finde = \"Guido\".upper()\n",
    "\n",
    "if finde in zettel.get(\"author\"):\n",
    "    print('Hab ihn!')\n",
    "else:\n",
    "    print('Leider nicht gefunden...')\n"
   ]
  }
 ],
 "metadata": {
  "kernelspec": {
   "display_name": "Python 3",
   "language": "python",
   "name": "python3"
  },
  "language_info": {
   "codemirror_mode": {
    "name": "ipython",
    "version": 3
   },
   "file_extension": ".py",
   "mimetype": "text/x-python",
   "name": "python",
   "nbconvert_exporter": "python",
   "pygments_lexer": "ipython3",
   "version": "3.7.3"
  }
 },
 "nbformat": 4,
 "nbformat_minor": 4
}
