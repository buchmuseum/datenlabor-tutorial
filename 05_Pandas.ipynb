{
 "cells": [
  {
   "cell_type": "markdown",
   "metadata": {},
   "source": [
    "# Komplexe Datenformate & große Datensätze\n",
    "\n",
    "Man kann sich leicht vorstellen, dass man in der »echten Welt« mit unserem Datenmodell für einen bibliographischen Zettelkasten nicht sehr weit kommt. Ein Bibliotheksdatensatz würde viel mehr Informationen, also Datenfelder, enthalten und der Zettelkasten würde schnell etliche Tausend Karten enthalten. Würde man diese Daten weiterhin in Pythons grundlegenden Datenformaten speichern, wäre das sehr unübersichtlich und man müsste viele Funktionen für den Umgang mit den Daten manuell programmieren.\n",
    "\n",
    "Für Python gibt es ein Werkzeug, das genau auf diese Aufgaben spezialisiert ist, und das uns viel unangenehme Arbeit abnehmen kann.\n",
    "\n",
    "Das Werkzeug heißt __Pandas__ 🐼 und ist eine Python-Bibliothek.\n",
    "\n",
    "Pandas ist Teil von Anaconda und kann deshalb meistens sofort genutzt werden. (Wenn es doch nicht installiert sein sollte, gibt es auf der [Pandas-Homepage](https://pandas.pydata.org/pandas-docs/stable/index.html) eine Anleitung zur Installation.)\n",
    "\n",
    "Zunächst müssen wir Python sagen, dass wir pandas in diesem Skript bzw. diesem Notebook verwenden wollen."
   ]
  },
  {
   "cell_type": "code",
   "execution_count": 1,
   "metadata": {},
   "outputs": [],
   "source": [
    "import pandas as pd\n"
   ]
  },
  {
   "cell_type": "markdown",
   "metadata": {},
   "source": [
    "Der Zusatz `as pd` bedeutet, dass wir Pandas jetzt über das Kürzel `pd` aufrufen können, statt es jedes Mal ausschreiben zu müssen. Man kann hier auch jedes andere Kürzel verwenden. Es hat sich allerdings unter den Pandas-Anwender\\*innen eingebürgert, `pd` zu verwenden. So wird man es in Hilfeforen oder Tutorials im Internet auch meistens lesen. Wir werden uns hier an diese Konvention halten.\n",
    "\n",
    "Wir wollen unseren Zettelkasten aus dem letzten Notebook noch einmal verwenden und ihn in Pandas importieren. Dazu legen wir ihn noch einmal neu an, denn wir können in diesem Notebook nicht auf die Daten aus einem anderen Notebook zugreifen."
   ]
  },
  {
   "cell_type": "code",
   "execution_count": 3,
   "metadata": {},
   "outputs": [
    {
     "data": {
      "text/plain": [
       "[{'autor': 'Guido van Rossum', 'titel': 'De Serpenti Libri', 'jahr': 1455},\n",
       " {'autor': 'Monty Python', 'titel': 'Flying Circus', 'jahr': 1969},\n",
       " {'autor': 'Umberto Eco', 'titel': 'Il nome della rosa', 'jahr': 1982},\n",
       " {'autor': 'Goethe', 'titel': 'Wahlverwandtschaften', 'jahr': 1809}]"
      ]
     },
     "execution_count": 3,
     "metadata": {},
     "output_type": "execute_result"
    }
   ],
   "source": [
    "zettel1 = {\"autor\": \"Guido van Rossum\", \"titel\": \"De Serpenti Libri\", \"jahr\": 1455}\n",
    "zettel2 = {\"autor\": \"Monty Python\", \"titel\": \"Flying Circus\", \"jahr\": 1969}\n",
    "zettel3 = {\"autor\": \"Umberto Eco\", \"titel\": \"Il nome della rosa\", \"jahr\": 1982}\n",
    "zettel4 = {\"autor\": \"Goethe\", \"titel\": \"Wahlverwandtschaften\", \"jahr\": 1809}\n",
    "           \n",
    "kasten = [zettel1, zettel2, zettel3, zettel4]\n",
    "kasten"
   ]
  },
  {
   "cell_type": "markdown",
   "metadata": {},
   "source": [
    "Pandas ist sehr gut darin, alle möglichen Datenformate, die man ihm gibt, zu analysieren und korrekt zu importieren. Wir können also versuchen, unseren Kasten direkt an Pandas zu übergeben."
   ]
  },
  {
   "cell_type": "code",
   "execution_count": 6,
   "metadata": {},
   "outputs": [
    {
     "data": {
      "text/html": [
       "<div>\n",
       "<style scoped>\n",
       "    .dataframe tbody tr th:only-of-type {\n",
       "        vertical-align: middle;\n",
       "    }\n",
       "\n",
       "    .dataframe tbody tr th {\n",
       "        vertical-align: top;\n",
       "    }\n",
       "\n",
       "    .dataframe thead th {\n",
       "        text-align: right;\n",
       "    }\n",
       "</style>\n",
       "<table border=\"1\" class=\"dataframe\">\n",
       "  <thead>\n",
       "    <tr style=\"text-align: right;\">\n",
       "      <th></th>\n",
       "      <th>autor</th>\n",
       "      <th>titel</th>\n",
       "      <th>jahr</th>\n",
       "    </tr>\n",
       "  </thead>\n",
       "  <tbody>\n",
       "    <tr>\n",
       "      <th>0</th>\n",
       "      <td>Guido van Rossum</td>\n",
       "      <td>De Serpenti Libri</td>\n",
       "      <td>1455</td>\n",
       "    </tr>\n",
       "    <tr>\n",
       "      <th>1</th>\n",
       "      <td>Monty Python</td>\n",
       "      <td>Flying Circus</td>\n",
       "      <td>1969</td>\n",
       "    </tr>\n",
       "    <tr>\n",
       "      <th>2</th>\n",
       "      <td>Umberto Eco</td>\n",
       "      <td>Il nome della rosa</td>\n",
       "      <td>1982</td>\n",
       "    </tr>\n",
       "    <tr>\n",
       "      <th>3</th>\n",
       "      <td>Goethe</td>\n",
       "      <td>Wahlverwandtschaften</td>\n",
       "      <td>1809</td>\n",
       "    </tr>\n",
       "  </tbody>\n",
       "</table>\n",
       "</div>"
      ],
      "text/plain": [
       "              autor                 titel  jahr\n",
       "0  Guido van Rossum     De Serpenti Libri  1455\n",
       "1      Monty Python         Flying Circus  1969\n",
       "2       Umberto Eco    Il nome della rosa  1982\n",
       "3            Goethe  Wahlverwandtschaften  1809"
      ]
     },
     "execution_count": 6,
     "metadata": {},
     "output_type": "execute_result"
    }
   ],
   "source": [
    "df = pd.DataFrame(kasten)\n",
    "df"
   ]
  },
  {
   "cell_type": "markdown",
   "metadata": {},
   "source": [
    "Das Datenobjekte in Pandas nennt man __Dataframe__. Deshalb hat sich als Variablenname `df` etabliert. Man kann ein Dataframe aber beliebig anders nennen. So ist aber auf den ersten Blick klar: das hier ist ein Dataframe.\n",
    "\n",
    "Dataframes kann man sich wie __Tabellen__ einer Tabellenkalkulation vorstellen. Sie haben vertikale __Spalten__ mit einem Namen und horizontale __Zeilen__ mit einem Index. Wenn man in einem Jupyter Notebook ein Dataframe aufruft, indem man einfach seinen Namen eingibt, werden die Daten sehr übersichtlich formatiert und man kann sich einen guten Überblick über sie verschaffen.\n",
    "\n",
    "Wir wollen nun einen größeren und etwas komplexeren Datensatz importieren, um zu sehen, wie nützlich Pandas für solche Daten ist."
   ]
  },
  {
   "cell_type": "code",
   "execution_count": 2,
   "metadata": {},
   "outputs": [
    {
     "data": {
      "text/html": [
       "<div>\n",
       "<style scoped>\n",
       "    .dataframe tbody tr th:only-of-type {\n",
       "        vertical-align: middle;\n",
       "    }\n",
       "\n",
       "    .dataframe tbody tr th {\n",
       "        vertical-align: top;\n",
       "    }\n",
       "\n",
       "    .dataframe thead th {\n",
       "        text-align: right;\n",
       "    }\n",
       "</style>\n",
       "<table border=\"1\" class=\"dataframe\">\n",
       "  <thead>\n",
       "    <tr style=\"text-align: right;\">\n",
       "      <th></th>\n",
       "      <th>autor</th>\n",
       "      <th>jahr</th>\n",
       "      <th>ort</th>\n",
       "      <th>titel</th>\n",
       "      <th>umfang</th>\n",
       "    </tr>\n",
       "  </thead>\n",
       "  <tbody>\n",
       "    <tr>\n",
       "      <th>0</th>\n",
       "      <td>Antonin</td>\n",
       "      <td>1487</td>\n",
       "      <td>Speyer</td>\n",
       "      <td>Summa theologica P. 1-4</td>\n",
       "      <td>P. 1: 274 Bl. - P. 2: 358 Bl. - P. 3: 490 Bl. ...</td>\n",
       "    </tr>\n",
       "    <tr>\n",
       "      <th>1</th>\n",
       "      <td>NaN</td>\n",
       "      <td>1486-1487</td>\n",
       "      <td>Nürnberg</td>\n",
       "      <td>Biblia, lat.</td>\n",
       "      <td>P. 1: 468. - P. 2: 370. - P. 3: 348. - P. 4: 3...</td>\n",
       "    </tr>\n",
       "    <tr>\n",
       "      <th>2</th>\n",
       "      <td>Johannes</td>\n",
       "      <td>21.08.1486</td>\n",
       "      <td>Nürnberg</td>\n",
       "      <td>Catholicon</td>\n",
       "      <td>328 Bl.</td>\n",
       "    </tr>\n",
       "    <tr>\n",
       "      <th>3</th>\n",
       "      <td>Bolognino, Lodovico</td>\n",
       "      <td>10.01.1486</td>\n",
       "      <td>Bologna</td>\n",
       "      <td>Collectio florum Decretorum</td>\n",
       "      <td>152 Bll.</td>\n",
       "    </tr>\n",
       "    <tr>\n",
       "      <th>4</th>\n",
       "      <td>Ptolemaeus, Claudius</td>\n",
       "      <td>21.07.1486</td>\n",
       "      <td>Ulm</td>\n",
       "      <td>Cosmographia</td>\n",
       "      <td>140 Bl., 32 Kt. (je 1 Doppelbl.)</td>\n",
       "    </tr>\n",
       "    <tr>\n",
       "      <th>...</th>\n",
       "      <td>...</td>\n",
       "      <td>...</td>\n",
       "      <td>...</td>\n",
       "      <td>...</td>\n",
       "      <td>...</td>\n",
       "    </tr>\n",
       "    <tr>\n",
       "      <th>1041</th>\n",
       "      <td>NaN</td>\n",
       "      <td>[ca. 1490]</td>\n",
       "      <td>Erfurt</td>\n",
       "      <td>Modus veniendi ad amorem b. Mariae virginis</td>\n",
       "      <td>1 Bl.</td>\n",
       "    </tr>\n",
       "    <tr>\n",
       "      <th>1042</th>\n",
       "      <td>Lactantius, Lucius Caecilius Firmianus</td>\n",
       "      <td>21.04.1490</td>\n",
       "      <td>Venedig</td>\n",
       "      <td>Opera</td>\n",
       "      <td>148 Bl.</td>\n",
       "    </tr>\n",
       "    <tr>\n",
       "      <th>1043</th>\n",
       "      <td>Aristoteles</td>\n",
       "      <td>1490</td>\n",
       "      <td>[Leipzig]</td>\n",
       "      <td>Parva naturalia</td>\n",
       "      <td>34 Bl.</td>\n",
       "    </tr>\n",
       "    <tr>\n",
       "      <th>1044</th>\n",
       "      <td>Albertus</td>\n",
       "      <td>1490</td>\n",
       "      <td>Brescia</td>\n",
       "      <td>Philosophia pauperum sive Isagoge in libros Ar...</td>\n",
       "      <td>54 Bl.</td>\n",
       "    </tr>\n",
       "    <tr>\n",
       "      <th>1045</th>\n",
       "      <td>NaN</td>\n",
       "      <td>[ca. 1490]</td>\n",
       "      <td>Ingolstadt</td>\n",
       "      <td>Psalterium cum canticis</td>\n",
       "      <td>137 Bl.</td>\n",
       "    </tr>\n",
       "  </tbody>\n",
       "</table>\n",
       "<p>1046 rows × 5 columns</p>\n",
       "</div>"
      ],
      "text/plain": [
       "                                       autor        jahr         ort  \\\n",
       "0                                    Antonin        1487      Speyer   \n",
       "1                                        NaN   1486-1487   Nürnberg   \n",
       "2                                   Johannes  21.08.1486   Nürnberg   \n",
       "3                        Bolognino, Lodovico  10.01.1486     Bologna   \n",
       "4                       Ptolemaeus, Claudius  21.07.1486         Ulm   \n",
       "...                                      ...         ...         ...   \n",
       "1041                                     NaN  [ca. 1490]      Erfurt   \n",
       "1042  Lactantius, Lucius Caecilius Firmianus  21.04.1490     Venedig   \n",
       "1043                             Aristoteles        1490   [Leipzig]   \n",
       "1044                                Albertus        1490     Brescia   \n",
       "1045                                     NaN  [ca. 1490]  Ingolstadt   \n",
       "\n",
       "                                                  titel  \\\n",
       "0                               Summa theologica P. 1-4   \n",
       "1                                          Biblia, lat.   \n",
       "2                                            Catholicon   \n",
       "3                           Collectio florum Decretorum   \n",
       "4                                          Cosmographia   \n",
       "...                                                 ...   \n",
       "1041        Modus veniendi ad amorem b. Mariae virginis   \n",
       "1042                                              Opera   \n",
       "1043                                    Parva naturalia   \n",
       "1044  Philosophia pauperum sive Isagoge in libros Ar...   \n",
       "1045                            Psalterium cum canticis   \n",
       "\n",
       "                                                 umfang  \n",
       "0     P. 1: 274 Bl. - P. 2: 358 Bl. - P. 3: 490 Bl. ...  \n",
       "1     P. 1: 468. - P. 2: 370. - P. 3: 348. - P. 4: 3...  \n",
       "2                                               328 Bl.  \n",
       "3                                              152 Bll.  \n",
       "4                      140 Bl., 32 Kt. (je 1 Doppelbl.)  \n",
       "...                                                 ...  \n",
       "1041                                              1 Bl.  \n",
       "1042                                            148 Bl.  \n",
       "1043                                             34 Bl.  \n",
       "1044                                             54 Bl.  \n",
       "1045                                            137 Bl.  \n",
       "\n",
       "[1046 rows x 5 columns]"
      ]
     },
     "execution_count": 2,
     "metadata": {},
     "output_type": "execute_result"
    }
   ],
   "source": [
    "df = pd.read_csv('dbsm-inkunabeln.csv')\n",
    "df"
   ]
  },
  {
   "cell_type": "markdown",
   "metadata": {},
   "source": [
    "Wir haben Daten zu etwas mehr als 1.000 Inkunabeln aus dem Deutschen Buch- und Schriftmuseums der Deutschen Nationalbibliothek in Leipzig aus der Datei `dbsm-inkunabeln.csv` geladen. Pandas kann aber z.B. auch Excel-Tabellen, SQL-Datenbanken oder JSON lesen. Mehr Informationen dazu gibt es [hier](https://pandas.pydata.org/pandas-docs/stable/user_guide/io.html)."
   ]
  },
  {
   "cell_type": "code",
   "execution_count": null,
   "metadata": {},
   "outputs": [],
   "source": []
  }
 ],
 "metadata": {
  "kernelspec": {
   "display_name": "Python 3",
   "language": "python",
   "name": "python3"
  },
  "language_info": {
   "codemirror_mode": {
    "name": "ipython",
    "version": 3
   },
   "file_extension": ".py",
   "mimetype": "text/x-python",
   "name": "python",
   "nbconvert_exporter": "python",
   "pygments_lexer": "ipython3",
   "version": "3.7.3"
  }
 },
 "nbformat": 4,
 "nbformat_minor": 4
}
