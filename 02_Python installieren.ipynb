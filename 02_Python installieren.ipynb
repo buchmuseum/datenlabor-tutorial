{
 "cells": [
  {
   "cell_type": "markdown",
   "metadata": {},
   "source": [
    "# Python installieren und laufen lassen\n",
    "\n",
    "Es gibt viele verschiedene Methoden Python-Skripte zu schreiben und dann laufen zu lassen. Grundsätzlich kann man auf dem __eigenen Rechner__ Python installieren und __lokal__ laufen lassen oder man nutzt eine __Online-Installation__, die auf einem __Webserver__ läuft, auf den man über das Internet zugreift.\n",
    "\n",
    "## Lokale Installation\n",
    "\n",
    "Der Vorteil der lokalen Installation besteht darin, dass man sich die gesamte Programmierumgebung ganz nach den eigenen Bedürfnissen einrichten kann. Allerdings muss man sich dann auch mit vielen Einzelaspekten beschäftigen und vieles selbst zusammenstellen.\n",
    "\n",
    "Für Datenanalysen eignet sich die Python-Distribution __[Anaconda](https://www.anaconda.com/products/individual)__ sehr gut. Anaconda enthält Python, einen Editor, in dem komfortabel Python-Skripte geschrieben werden können und zahlreiche Module, die für Datenanalysen wichtig sind."
   ]
  },
  {
   "cell_type": "markdown",
   "metadata": {},
   "source": [
    "## Module und Bibliotheken\n",
    "\n",
    "Python ist eine mächtige Programmiersprache, mit der man fast alles machen kann. Jede\\*r kann die Grundfunktionen um weitere Funktionen erweitern. Solche Erweiterungen werden oft von Entwickler\\*innen zur Verfügung gestellt und können bei Bedarf der Python-Installation auf dem eigenen Rechner hinzugefügt werden. Diese Erweiterungen nennt man __Module__. Mehrere Module können zu __Bibliotheken__ zusammengefasst werden.\n",
    "\n",
    "Die Grundfunktionen von Python sind in der sogenannten __Standardbibliothek__ enthalten. Diese ist immer verfügbar, man muss sie nicht eigens öffnen oder laden. Alle weiteren Module und Bibliotheken müssen in jedem Skript explizit eingebunden werden.\n",
    "Man kann sich das wie einen großen __Werkzeugkasten__ vorstellen, der allerlei Werkzeuge enthält. Statt immer den ganzen Kasten herumzuschleppen, entnimmt man nur die Werkzeuge, die man für die aktuelle Aufgabe wirklich braucht. Das macht Python schnell, schlank und adaptierbar.\n",
    "\n",
    "Anaconda ist ein guter Startpunkt, weil es viele verbreitete Bibliotheken zur Datenanalyse schon enthält und auf allen gängigen Betriebssystemen (Windows, Mac, Linux) installiert werden kann."
   ]
  },
  {
   "cell_type": "markdown",
   "metadata": {},
   "source": [
    "## Online-Installation\n",
    "\n",
    "Es gibt mittlerweile auch zahlreiche Wege Python-Skripte zu schreiben und laufen zu lassen, ohne das Programm auf dem eigenen Rechner zu installieren. Der größte Nachteil besteht in der deutlich schlechtern Performance dieser Distributionen, die für die Verarbeitung großer Datenmengen nicht ausreichend ist. Zum Üben und schnellen Ausprobieren sind Online-Distributionen aber sehr gut geeignet.\n",
    "\n",
    "Eine sehr einfache und doch mächtige Online-Distribution bietet __[repl.it](https://repl.it/languages/python3)__ an. Ohne Anmeldung kann man sofort beginnen, Skripte zu schreiben, eigene Module hinzuzuladen. Wer sich registriert kann auch Skripte auch direkt in dem Dienst abspeichern."
   ]
  },
  {
   "cell_type": "markdown",
   "metadata": {},
   "source": [
    "## Jupyter Notebooks\n",
    "\n"
   ]
  },
  {
   "cell_type": "code",
   "execution_count": null,
   "metadata": {},
   "outputs": [],
   "source": []
  }
 ],
 "metadata": {
  "kernelspec": {
   "display_name": "Python 3",
   "language": "python",
   "name": "python3"
  },
  "language_info": {
   "codemirror_mode": {
    "name": "ipython",
    "version": 3
   },
   "file_extension": ".py",
   "mimetype": "text/x-python",
   "name": "python",
   "nbconvert_exporter": "python",
   "pygments_lexer": "ipython3",
   "version": "3.7.3"
  }
 },
 "nbformat": 4,
 "nbformat_minor": 2
}
