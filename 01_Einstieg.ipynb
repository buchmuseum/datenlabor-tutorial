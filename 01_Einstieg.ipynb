{
 "cells": [
  {
   "cell_type": "markdown",
   "metadata": {},
   "source": [
    "# Einstieg"
   ]
  },
  {
   "cell_type": "markdown",
   "metadata": {},
   "source": [
    "## Datenlabore für Kulturwissenschaftler*innen\n",
    "\n",
    "Sollten sich Kulturwissenschaftlerinnen und Kulturwissenschaftler[<sup>1</sup>](#fn1 \"Grundsätzlich sind stets die männliche als auch die weibliche Form gemeint. Der Einfachheit halber verwenden wir aber in Zukunft lediglich die grammatikalisch weibliche Form.\") mit Daten, Computern und Programmiersprachen beschäftigen? Wir finden: Das sollten sie!"
   ]
  },
  {
   "cell_type": "markdown",
   "metadata": {},
   "source": [
    "Wir glauben das aus drei Gründen:\n",
    "\n",
    "1. **Die Ubiquität von Computern und Daten**: Wir sind ständig umgeben von Computern. Dank ihnen fliegen wir nicht nur zum Mond und in absehbarer Zeit auch zum Mars. (Der Quellcode für den Flug der Apollo 11 zum Mond ist inzwischen komplett auf [Github](https://github.com/chrislgarry/Apollo-11) einsehbar.) Computer steuern auch die Ampelschaltung, wenn wir eine Straße überqueren möchten. Sie sorgen dafür, dass unsere Buchhändlerin des Vertrauens für uns das richtige Buch vom Großhandel bestellt. Durch die Datenspuren, die wir tagein, tagaus hinterlassen, werden uns beispielsweise neue Serien in unserem  Lieblingsstreamingdienst oder neue Übungen im Fitnestracker empfohlen. Wenn wir die Kultur verstehen wollen, in der wir leben, müssen wir uns also auch mit Computern und Daten beschäftigen.\n",
    "2. ***Data Literacy***: Gerade als Kulturwissenschaftlerinnen sollten wir wissen, was Daten sind (digital vorliegende, oft durch Beobachtung gewonnene Repräsentationen einzelner Aspekte von Gegenständen oder Phänomenen, die uns interessieren), wie sie zustandekommen und welche Aussagekraft sie für uns haben. Sich damit auseinanderzusetzen, wie wir Daten gewinnen, verarbeiten und ausgewerten können, gehört unserer Meinung nach zum Rüstzeug, ohne das Kulturwissenschaftlerinnen heutzutage nicht mehr auskommen. Datenkunde rückt damit in den Rang einer Hilfs- und Grundwissenschaften auf und tritt an die Seite von ehrwürdigen Grundwissenschaften wie Paläographie, Papierkunde oder Diplomatik. Der Umgang mit Daten ist in unseren Augen deshalb in etwa das, was Latein oder Griechisch für den Althistoriker sind.\n",
    "3. **Kontrolle**: Wir arbeiten, ob wir es wollen oder nicht, täglich mit Computern. Ohne zu verstehen, wie die Programme, die wir dabei nutzen, grundsätzlich funktionieren, sind wir ihnen quasi hilflos ausgeliefert. Wenn wir aber nicht nur ihre Funktionsweise begriffen haben, sondern auch in der Lage sind, selbst eigene Programme zu schreiben, dann gewinnen wir die Kontrolle darüber zurück, wie wir arbeiten. Wir sind dann nicht nur passive Nutzer und lassen uns von einer Software vorschreiben, wie wir den Rechner zu bedienen haben. Wir können dann das Stück Hardware, das da vor uns steht, tatsächlich selbst entlang seiner technischen Eigenschaften steuern. Zu lernen, wie man programmiert, ist in unseren Augen eine Form der Selbstermächtigung."
   ]
  },
  {
   "cell_type": "markdown",
   "metadata": {},
   "source": [
    "## Warum Python?"
   ]
  },
  {
   "cell_type": "markdown",
   "metadata": {},
   "source": [
    "Der niederländische Informatiker [Guido van Rossum](https://de.wikipedia.org/wiki/Guido_van_Rossum) hat Python Anfang der 90'er Jahre des 20. Jahrhunderts damit begonnen, die Skriptsprache Python zu entwickeln. Sein Ziel war es, seinen Studierenden mithilfe von Python beizubringen, wie man programmiert. Als Inspirationsquelle für den Name der Sprache diente übrigens nicht etwa die Schlange, sondern sondern die britische Comedy-Show [Monty Python's Flying Circus](https://de.wikipedia.org/wiki/Monty_Python%E2%80%99s_Flying_Circus), von der van Rossum ein großer Fan war."
   ]
  },
  {
   "cell_type": "markdown",
   "metadata": {},
   "source": [
    "Van Rossum hat zwar Python als Anfängersprache konzipiert. Zugleich hat er sie aber auch mit sehr mächtigen Eigenschaften ausgestattet, so dass sie sich für zahlreiche Anwendungsfälle eignet. Mittlerweile ist sie zu einer Art Schweizer Taschenmesser unter den Programmiersprachen geworden. Ihrem eigentlichen Ursprung gemäß, wird sie weiterhin vielfach in der Forschung und Wissenschaft genutzt, z. B. bei der Auswertung von Experimenten in [Teilchenbeschleunigern](https://cds.cern.ch/record/2274794?ln=de), in der Astrophysik, in der Computer- und Corpus-Linguistik oder bei der Forschung zur Künstlichen Intelligenz. Darüber hinaus findet Python Verwendung in der Data Science. Sie hilft bei der Wartung und Systemadministrationen von Servern, läuft im Backend von zahlreichen Online-Shops und Webapps und sorgt für die Automatisierung von [Smart Homes](https://de.wikipedia.org/wiki/Smart_Home)."
   ]
  },
  {
   "cell_type": "markdown",
   "metadata": {},
   "source": [
    "Das ist nur möglich, weil die Einfachheit und, ja: manchmal auch die Schönheit von Python-Programmen eine riesige und immer weiter wachsende Community begeistert. Seit Jahren rangiert sie auf den vordersten Plätzen von Indices wie [TIOBE](https://de.wikipedia.org/wiki/TIOBE-Index) oder [PYPL](http://pypl.github.io/PYPL.html). Immer mehr Repositorien mit Python-Code werden auf [Github](https://octoverse.github.com/) veröffentlicht. Zu beinahe jedem Problem, dass man versucht, mit Python zu lösen, gibt es bereits eine Nachfrage und mehrere Lösungen auf QA-Plattformen wie z.B. [Stackoverflow](https://insights.stackoverflow.com/survey/2020)."
   ]
  },
  {
   "cell_type": "markdown",
   "metadata": {},
   "source": [
    "All das macht Python zu einer herausragenden Programmiersprache für Kulturwissenschaftler. Am allerwichtigsten ist aber: Python ist einfach zu lernen und die Skripte sind leicht zu lesen. "
   ]
  },
  {
   "cell_type": "markdown",
   "metadata": {},
   "source": [
    "## An wen richtet sich dieses Tutorial?"
   ]
  },
  {
   "cell_type": "markdown",
   "metadata": {},
   "source": [
    "## Aufbau"
   ]
  }
 ],
 "metadata": {
  "kernelspec": {
   "display_name": "Python 3",
   "language": "python",
   "name": "python3"
  },
  "language_info": {
   "codemirror_mode": {
    "name": "ipython",
    "version": 3
   },
   "file_extension": ".py",
   "mimetype": "text/x-python",
   "name": "python",
   "nbconvert_exporter": "python",
   "pygments_lexer": "ipython3",
   "version": "3.7.3"
  }
 },
 "nbformat": 4,
 "nbformat_minor": 4
}
